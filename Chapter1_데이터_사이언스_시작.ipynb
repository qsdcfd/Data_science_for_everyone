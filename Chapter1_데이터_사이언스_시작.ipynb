{
  "nbformat": 4,
  "nbformat_minor": 0,
  "metadata": {
    "colab": {
      "name": "Chapter1 데이터 사이언스 시작.ipynb",
      "provenance": [],
      "authorship_tag": "ABX9TyMWHP2BnccL80iTYmUt7EVQ",
      "include_colab_link": true
    },
    "kernelspec": {
      "name": "python3",
      "display_name": "Python 3"
    },
    "language_info": {
      "name": "python"
    }
  },
  "cells": [
    {
      "cell_type": "markdown",
      "metadata": {
        "id": "view-in-github",
        "colab_type": "text"
      },
      "source": [
        "<a href=\"https://colab.research.google.com/github/qsdcfd/Data_science_for_everyone/blob/TIL/Chapter1_%EB%8D%B0%EC%9D%B4%ED%84%B0_%EC%82%AC%EC%9D%B4%EC%96%B8%EC%8A%A4_%EC%8B%9C%EC%9E%91.ipynb\" target=\"_parent\"><img src=\"https://colab.research.google.com/assets/colab-badge.svg\" alt=\"Open In Colab\"/></a>"
      ]
    },
    {
      "cell_type": "markdown",
      "source": [
        "### 학습 목표\n",
        "\n",
        "- 데이터 사이언스에 대한 기본 개념을 이해합니다.\n",
        "\n",
        " \n",
        "\n",
        "### 핵심 키워드\n",
        "\n",
        "- 데이터 사이언스 정의\n",
        "\n",
        "- 데이터 사이언스와 통계학\n",
        "\n",
        "- 데이터 사이언스 벤 다이어그램\n",
        "\n",
        "- 데이터와 인공지능의 관계\n",
        "\n",
        "- 머신러닝과 딥러닝\n",
        "\n",
        "---\n",
        "\n",
        "### 데이터 사이언스\n",
        "\n",
        "- 콘웨이의 데이터 사이언스 벤다이어그램\n",
        "\n",
        "- 아래의 모든 것을 아우르는 것을 데이터 사이언스라고 정의합니다.\n",
        "\n",
        "   - Hacking Skills\n",
        "\n",
        "   - Math & Statistics Knowledge\n",
        "\n",
        "   - ML\n",
        "\n",
        "   - Danger Zone\n",
        "\n",
        "   - Traditional Research\n",
        "\n",
        "   - Substantive Experts\n",
        "\n",
        "<br>\n",
        "\n",
        "#### 데이터 사이언스\n",
        "\n",
        "\n",
        "*통계학\n",
        "\n",
        ">다량의 데이터를 관찰하고 정리 및 분석하는 방법 연구\n",
        "\n",
        "<br>\n",
        "\n",
        "*데이터 사이언스\n",
        "\n",
        ">데이터 마이닝과 유사한 (비)정형 형태를 포함한 다양한 데이터로부터 인사이트를 추출하는 방식입니다.\n",
        "\n",
        "즉, 데이터를 통해 실제 현상을 이해하고 분석하는 것을 말합니다. \n",
        "\n",
        "이때, 통계학~ 기계학습까지 다양한 방식을 이용해서 수행합니다.\n",
        "\n",
        "<br>\n",
        "\n",
        "*데이터 분석\n",
        "\n",
        ">유용한 정보 발굴 및 결론 내용 도출을 통해서 의사결정을 지원하는 것을 목표로 합니다.\n",
        "\n",
        "이것 또한, 다각적 활용도가 가능하기에 비즈니스 부문에서 더 효율적으로 증강시켜줍니다.\n",
        "\n",
        "<br>\n",
        "\n",
        "*탐색적 데이터 분석(EDA)\n",
        "\n",
        "미국의 통계학자가 만든 자료 분석 방법론으로 기존에는 오로지 정보의 추출적 느낌만 있어서 본연의 의미를 찾기는 어려웠습니다.\n",
        "\n",
        "그래서, 주어진 자료만 가져도 충분하게 정보를 탐색하는 방법을 연구한 끝에 나온 것이 EDA입니다.\n",
        "\n",
        "<br>\n",
        "\n",
        "*정보 디자인\n",
        "\n",
        ">정보를 구성하여 효율적으로 사용할 수 있게 디자인 기술 및 업무를 말하는 것으로 복잡하거나 구조화되지 않은 데이터를 시각화하여 좀 더 명료하게 보이는 것에 초점을 둡니다.\n",
        "\n",
        "\n",
        "<br>\n",
        "\n",
        "*데이터의 중요성\n",
        "\n",
        "**garbage in garbage out**\n",
        "\n",
        ">어떤 데이터를 어떻게 넣어주느냐에 따라서 결과가 달라진다.\n",
        "\n"
      ],
      "metadata": {
        "id": "JmvEcqNfu0BC"
      }
    }
  ]
}
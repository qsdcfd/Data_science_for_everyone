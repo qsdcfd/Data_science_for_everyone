{
  "nbformat": 4,
  "nbformat_minor": 0,
  "metadata": {
    "colab": {
      "name": "범주형 변수의 빈도수",
      "provenance": [],
      "authorship_tag": "ABX9TyPMmbPBBwFpZXcSZM2DrJcx"
    },
    "kernelspec": {
      "name": "python3",
      "display_name": "Python 3"
    },
    "language_info": {
      "name": "python"
    }
  },
  "cells": [
    {
      "cell_type": "markdown",
      "source": [
        "#### 학습 목표\n",
        "파이썬에 대해 알아봅니다.\n",
        "\n",
        "<br> \n",
        "\n",
        "#### 핵심 키워드\n",
        "\n",
        "df.nunique()\n",
        "\n",
        "하나의 변수에 대한 빈도수 : series.value_counts()\n",
        "\n",
        "sns.countplot()\n",
        "\n",
        "두 개 이상의 변수에 대한 빈도수 : pd.crosstab()\n",
        "\n",
        "---\n",
        "\n",
        "#### Point\n",
        "\n",
        "파이썬의 범주형 변수에 대한 빈도수를 그릴 때, 변수의 갯수에 따라 1개의 변수에 대해서는 value_counts()를 통해 그려보고 2개 이상의 변수에 대해서는 pd.crosstab을 통해 빈도수를 구합니다.\n",
        "\n",
        "df.nunique()를 통해 유일값의 갯수를 구할 수 있습니다.\n",
        "\n",
        "\n",
        "하나의 변수에 대한 빈도수는 series.value_counts() 로 구합니다. (판다스 1.1.3 버전부터는 데이터프레임 전체 대한 빈도수도 구할 수 있습니다.)\n",
        "\n",
        "\n",
        "seaborn 으로 빈도수를 시각화 할 때는 sns.countplot()으로 시각화하고, seaborn은 data와  x 혹은  y축의 변수값만 지정해 주면 countplot으로 빈도수를 시각화합니다.\n",
        "\n",
        "\n",
        "두 개 이상의 변수에 대한 빈도수를 구할 때는 pd.crosstab() 을 사용합니다. \n",
        "\n",
        "countplot을 시각화 할 때 seaborn 의 hue 에 특정 변수를 지정해 주면 해당 변수값에 따라 막대의 색상을 다르게 표현하게 됩니다.\n",
        "\n",
        "\n",
        "#### Code로 보는 시각화\n",
        "\n",
        "*1개 변수의 빈도수\n",
        "\n",
        "```\n",
        "# origin 의 빈도수 구하기\n",
        "df[\"origin\"].value_counts()\n",
        "```\n",
        " ![](https://images.velog.io/images/qsdcfd/post/0107ca83-b1d9-4d2e-9531-9ddaf22de67d/image.png)\n",
        " \n",
        " \n",
        "*2개 이상의 변수에 대한 빈도수\n",
        "\n",
        "```\n",
        "# countplot 으로 origin 의 빈도수를 시각화 하고 cylinders 로 다른 색상으로 표현하기\n",
        "sns.countplot(data=df, x=\"origin\", hue=\"cylinders\")\n",
        "```\n",
        "\n",
        "![](https://images.velog.io/images/qsdcfd/post/14f55ae5-b8af-4e51-8aff-7ac9cdf39610/image.png)\n",
        "\n",
        "```\n",
        "# countplot 으로 cylinders 의 빈도수를 시각화 하고 origin 으로 다른 색상으로 표현하기\n",
        "sns.countplot(data=df, x=\"cylinders\", hue=\"origin\")\n",
        "```\n",
        "\n",
        "![](https://images.velog.io/images/qsdcfd/post/0a9ebcfa-639e-4221-9040-0c853d4ef06c/image.png)\n",
        "\n",
        "\n",
        "```\n",
        "# pd.crosstab 으로 시각화한 값 직접 구하기\n",
        "pd.crosstab(df[\"origin\"],df[\"cylinders\"])\n",
        "```\n",
        "\n",
        "![](https://images.velog.io/images/qsdcfd/post/1053118d-27a7-4894-b797-9a0d28534cb5/image.png)"
      ],
      "metadata": {
        "id": "_PRBck4zP-6v"
      }
    },
    {
      "cell_type": "code",
      "source": [
        ""
      ],
      "metadata": {
        "id": "z3oXfQkFP_Tx"
      },
      "execution_count": null,
      "outputs": []
    }
  ]
}
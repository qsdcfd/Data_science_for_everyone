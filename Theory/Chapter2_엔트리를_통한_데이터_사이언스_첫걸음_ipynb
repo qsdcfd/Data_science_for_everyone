{
  "nbformat": 4,
  "nbformat_minor": 0,
  "metadata": {
    "colab": {
      "name": "Chapter2 엔트리를 통한 데이터 사이언스 첫걸음 ipynb",
      "provenance": [],
      "authorship_tag": "ABX9TyNMGTm6M0WSsqwJ2o7KqXG8",
      "include_colab_link": true
    },
    "kernelspec": {
      "name": "python3",
      "display_name": "Python 3"
    },
    "language_info": {
      "name": "python"
    }
  },
  "cells": [
    {
      "cell_type": "markdown",
      "metadata": {
        "id": "view-in-github",
        "colab_type": "text"
      },
      "source": [
        "<a href=\"https://colab.research.google.com/github/qsdcfd/Data_science_for_everyone/blob/TIL/Theory/Chapter2_%EC%97%94%ED%8A%B8%EB%A6%AC%EB%A5%BC_%ED%86%B5%ED%95%9C_%EB%8D%B0%EC%9D%B4%ED%84%B0_%EC%82%AC%EC%9D%B4%EC%96%B8%EC%8A%A4_%EC%B2%AB%EA%B1%B8%EC%9D%8C_ipynb\" target=\"_parent\"><img src=\"https://colab.research.google.com/assets/colab-badge.svg\" alt=\"Open In Colab\"/></a>"
      ]
    },
    {
      "cell_type": "markdown",
      "source": [
        "### 학습 목표\n",
        "- 엔트리를 통해 데이터 사이언스에 대한 기본 개념을 이해합니다.\n",
        "\n",
        "<br>\n",
        "\n",
        "### 핵심 키워드\n",
        "- 표를 읽는 방법(행과 열의 이해)\n",
        "\n",
        "- 차트의 이해 - 막대, 선, 원, 점, 히스토그램 그리기\n",
        "\n",
        "- 표를 요약하는 방법\n",
        "\n",
        "- 기본적인 기술통계의 이해\n",
        "\n",
        "- 평균, 표준편차, 최댓값, 중간값, 최솟값\n",
        "\n",
        "---\n",
        "\n",
        "\n",
        "### 엔트리로 데이터 사이언스 시작하기\n",
        "\n",
        "공식 사이트:https://playentry.org/\n",
        "\n",
        "*엔트리\n",
        "\n",
        ">블록코딩으로 직관적으로 어떻게 입력~출력하는 과정을 이해하도록 도움을 주는 사이트입니다.\n",
        "\n",
        "- 블록 > 데이터 불러오기\n",
        "\n",
        "   - 테이블 추가를 통해 데이터 부르기\n",
        "\n",
        "- 차트 그리기\n",
        "\n",
        "   - 선\n",
        "\n",
        "   - 원\n",
        "\n",
        "   - 히스토그램"
      ],
      "metadata": {
        "id": "VN0L-Wot_Dx1"
      }
    }
  ]
}
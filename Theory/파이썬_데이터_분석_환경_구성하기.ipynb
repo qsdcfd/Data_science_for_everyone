{
  "nbformat": 4,
  "nbformat_minor": 0,
  "metadata": {
    "colab": {
      "name": "파이썬 데이터 분석 환경 구성하기",
      "provenance": [],
      "authorship_tag": "ABX9TyM/Ka0Ei3TbqtcBZgfLrpdd",
      "include_colab_link": true
    },
    "kernelspec": {
      "name": "python3",
      "display_name": "Python 3"
    },
    "language_info": {
      "name": "python"
    }
  },
  "cells": [
    {
      "cell_type": "markdown",
      "metadata": {
        "id": "view-in-github",
        "colab_type": "text"
      },
      "source": [
        "<a href=\"https://colab.research.google.com/github/qsdcfd/Data_science_for_everyone/blob/TIL/Theory/%ED%8C%8C%EC%9D%B4%EC%8D%AC_%EB%8D%B0%EC%9D%B4%ED%84%B0_%EB%B6%84%EC%84%9D_%ED%99%98%EA%B2%BD_%EA%B5%AC%EC%84%B1%ED%95%98%EA%B8%B0.ipynb\" target=\"_parent\"><img src=\"https://colab.research.google.com/assets/colab-badge.svg\" alt=\"Open In Colab\"/></a>"
      ]
    },
    {
      "cell_type": "markdown",
      "source": [
        "### 학습 목표\n",
        "\n",
        "파이썬의 가상환경과 아나콘다, 주피터, Google Colab 의 차이를 이해합니다.\n",
        "\n",
        "<br> \n",
        "\n",
        "### 핵심 키워드\n",
        "\n",
        "아나콘다의 이해\n",
        "\n",
        "Google Colaboratory\n",
        "\n",
        "클라우드 환경을 통한 주피터 노트북 사용법\n",
        "\n",
        "Colab을 통한 데이터 로드와 요약\n",
        "\n",
        "---\n",
        "*파이썬 생태계: 정말 많죠? 이걸 다 까는 것은 말이 안됩니다.\n",
        "\n",
        "![](https://images.velog.io/images/qsdcfd/post/73c838d3-a804-41c6-88c0-3fe2491cf58a/image.png)\n",
        "\n",
        "*Anaconda:해결자\n",
        "\n",
        "![](https://images.velog.io/images/qsdcfd/post/30ea488a-ac30-4be0-af6b-0842031af275/image.png)\n",
        "\n",
        "\n",
        "파이썬 데이터 사이언스 생태계를 이해해야 효율적으로 사용할 수 있습니다. 우리는  파이썬을 통해 실습을 할 때는 버전별 차이라든지 다양한 라이브러리를 일일이 설치하려면 어려움을 겪은 적이 있으실텐데요  이러한 어려움을 덜어주는 아나콘다라는 가상환경을 이해해 봅니다.\n",
        "\n",
        "<br>\n",
        "\n",
        "파이썬과 관련된 데이터 사이언스 생태계를 집어삼키고 있는 매우 큰 뱀인 아나콘다라는 도구가 어떤 도구인지 알아봅니다. 또 아나콘다를 직접 설치하지 않더라도 사용할 수 있는  Google Colaboratory를 알아봅니다.\n",
        "\n",
        " Google Colaboratory 를 사용하면 내 장비의 사양이 낮더라도 클라우드 환경을 통해 좀 더 나은 GPU와 같은 장비를 사용해 볼 수도 있으며 일일이 설치하는 부담을 덜 수도 있고 다른 사용자와 공유를 통해 협업도 해볼 수 있습니다."
      ],
      "metadata": {
        "id": "e-EJX-8iFh0M"
      }
    },
    {
      "cell_type": "code",
      "source": [
        ""
      ],
      "metadata": {
        "id": "4B0dSNDNFiPf"
      },
      "execution_count": null,
      "outputs": []
    }
  ]
}
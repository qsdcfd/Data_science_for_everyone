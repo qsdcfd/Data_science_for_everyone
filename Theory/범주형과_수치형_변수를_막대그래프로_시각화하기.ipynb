{
  "nbformat": 4,
  "nbformat_minor": 0,
  "metadata": {
    "colab": {
      "name": "범주형과 수치형 변수를 막대그래프로 시각화하기",
      "provenance": [],
      "authorship_tag": "ABX9TyOfLcnh/tVfzYT6dEP7RQWj"
    },
    "kernelspec": {
      "name": "python3",
      "display_name": "Python 3"
    },
    "language_info": {
      "name": "python"
    }
  },
  "cells": [
    {
      "cell_type": "markdown",
      "source": [
        "#### 학습 목표\n",
        "\n",
        "범주형과 수치형 변수로 막대그래프를 시각화 합니다.\n",
        "\n",
        "<br>\n",
        "\n",
        "#### 핵심 키워드\n",
        "\n",
        "barplot\n",
        "\n",
        "groupby\n",
        "\n",
        "pivot_table\n",
        "\n",
        "--- \n",
        "\n",
        "#### Point\n",
        "\n",
        "범주형과 수치형 변수로 막대그래프를 시각화할 때, barplot 은 범주형 변수와 수치형 변수의 대표값을 그릴 때 사용합니다. \n",
        "\n",
        "수치형 변수를 표현하는 대표값에 대한 기본값은 평균입니다. \n",
        "\n",
        "barplot의 값을 직접 구하고자 한다면 groupby와 pivot_table을 통해 구할 수 있습니다.\n",
        "\n",
        "\n",
        "<br>\n",
        "\n",
        "#### Code시각화\n",
        "\n",
        "*범주형 VS 수치형\n",
        "\n",
        "```\n",
        "# barplot 으로 origin 별 mpg 값 구하기\n",
        "sns.barplot(data=df, x=\"origin\", y=\"mpg\", estimator=np.mean, ci=None)\n",
        "```\n",
        "\n",
        "![](https://images.velog.io/images/qsdcfd/post/5e6e76d2-50c9-42e3-af7d-b2d99b1b0aa5/image.png)\n",
        "\n",
        "*groupby통한 연산\n",
        "\n",
        "```\n",
        "# groupby를 통해 origin 별로 그룹화 하고 mpg 의 평균 구하기\n",
        "df.groupby(\"origin\")[\"mpg\"].mean()\n",
        "```\n",
        "\n",
        "\n",
        "![](https://images.velog.io/images/qsdcfd/post/7bbd4a3f-83ad-49dd-8604-26c341532083/image.png)\n",
        "\n",
        "\n",
        "*pivot table를 통한 연산\n",
        "\n",
        "```\n",
        "# pivot_table 로 같은 값 구하기\n",
        "pd.pivot_table(data=df, index=\"origin\", values=\"mpg\")\n",
        "```\n",
        "\n",
        "![](https://images.velog.io/images/qsdcfd/post/f4c7ecce-56f0-410c-8c22-3d0679d66367/image.png)\n",
        "\n",
        "```\n",
        "# pivot_table 를 통해 위 시각화에 대한 값을 구하기\n",
        "pd.pivot_table(data=df, index=\"cylinders\",columns=\"origin\", values=\"mpg\")\n",
        "```\n",
        "![](https://images.velog.io/images/qsdcfd/post/bf937367-26d0-4e24-a937-c4564f3d97a8/image.png)\n",
        "\n",
        "\n",
        "*barplot으로 다양하게 구현\n",
        "\n",
        "```\n",
        "# barplot 으로 합계 값 구하기\n",
        "sns.barplot(data=df, x=\"origin\", y=\"mpg\", estimator=np.sum,ci=None)\n",
        "```\n",
        "\n",
        "![](https://images.velog.io/images/qsdcfd/post/2252e901-55af-4947-96b3-92f98fda5fe0/image.png)\n",
        "\n",
        "```\n",
        "# barplot 에 hue 를 사용하여 색상을 다르게 표현해 보기\n",
        "sns.barplot(data=df, x=\"cylinders\",y=\"mpg\", ci=None, hue=\"origin\")\n",
        "```\n",
        "\n",
        "![](https://images.velog.io/images/qsdcfd/post/ff03d10c-2c04-4732-b8ed-8766fd56c1fa/image.png)\n",
        "\n",
        "\n",
        "```\n",
        "# cylinders 와 mpg 의 x, hue 값을 변경해서 시각화\n",
        "sns.barplot(data=df, x=\"origin\",y=\"mpg\", hue=\"cylinders\",ci=None)\n",
        "```\n",
        "\n",
        "![](https://images.velog.io/images/qsdcfd/post/37c6e161-31ed-480e-b182-c5c6a7a8e30c/image.png)"
      ],
      "metadata": {
        "id": "Ja2e6tSQUpgD"
      }
    },
    {
      "cell_type": "code",
      "source": [
        ""
      ],
      "metadata": {
        "id": "IdxkAwzpUqwy"
      },
      "execution_count": null,
      "outputs": []
    }
  ]
}
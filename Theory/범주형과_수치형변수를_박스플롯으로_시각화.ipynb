{
  "nbformat": 4,
  "nbformat_minor": 0,
  "metadata": {
    "colab": {
      "name": "범주형과 수치형변수를 박스플롯으로 시각화",
      "provenance": [],
      "authorship_tag": "ABX9TyMbOuwzHxSKMOsPSzIBtjTu"
    },
    "kernelspec": {
      "name": "python3",
      "display_name": "Python 3"
    },
    "language_info": {
      "name": "python"
    }
  },
  "cells": [
    {
      "cell_type": "markdown",
      "source": [
        "#### 학습 목표\n",
        "\n",
        "범주형과 수치형변수를 박스플롯으로 그리고 사분위 수와 이상치를 알아봅니다.\n",
        "\n",
        "<br>\n",
        "\n",
        "#### 핵심 키워드\n",
        "\n",
        "boxplot과 사분위수\n",
        "\n",
        "df.groupby()\n",
        "\n",
        "---\n",
        "\n",
        "#### Point\n",
        "\n",
        "범주형과 수치형변수를 박스플롯으로  그리고 사분위수와 이상치를 알아보기\n",
        "\n",
        "boxplot과 사분위수를 알아보고 boxplot 내부에  사분위수가 어떻게 표현되는지 알아보기\n",
        "\n",
        "df.groupby().describe()를 통해 범주형 값으로 그룹화를 하고 개별 범주 값에 대한 기술 통계값을 구해 boxplot과 비교\n",
        "\n",
        "<br>\n",
        "\n",
        "**boxplot와 사분위수**\n",
        "\n",
        "![](https://images.velog.io/images/qsdcfd/post/baaa4f13-67d8-4a26-a0fc-af5305674bf8/image.png)\n",
        "\n",
        "```\n",
        "# boxplot 으로 origin 별 mpg 의 기술통계 값 구하기\n",
        "sns.boxplot(data=df, x=\"origin\", y=\"mpg\")\n",
        "```\n",
        "\n",
        "![](https://images.velog.io/images/qsdcfd/post/a923c286-eb5c-42cf-aa69-9295ba7ceff0/image.png)\n",
        "\n",
        "\n",
        "```\n",
        "# groupby로 origin 값에 따른 mpg의 기술통계 구하기\n",
        "# 결과를 변수에 할당하여 재사용하기\n",
        "origin_desc= df.groupby(\"origin\")[\"mpg\"].describe()\n",
        "origin_desc\n",
        "\n",
        "```\n",
        "\n",
        "![](https://images.velog.io/images/qsdcfd/post/c3b21a48-5bf8-47b6-ae4d-8f3ccd41ddc2/image.png)\n",
        "\n",
        "<br>\n",
        "\n",
        "**박스플롯 이해하기**\n",
        "\n",
        "```\n",
        "europe = origin_desc.loc[\"europe\"]\n",
        "europe\n",
        "```\n",
        "\n",
        "![](https://images.velog.io/images/qsdcfd/post/61a98ea2-f7fa-4900-8cbe-e4a5bb5e60d1/image.png)\n",
        "\n",
        "```\n",
        "# IQR, 이상치를 제외한 최댓값, 최솟값 구하기\n",
        "\n",
        "Q3 = europe[\"75%\"]\n",
        "\n",
        "Q1 = europe[\"25%\"]\n",
        "IQR = Q3 - Q1\n",
        "\n",
        "OUT_MAX = Q3 + (1.5 * IQR)\n",
        "OUT_MIN = Q1 - (1.5 * IQR)\n",
        "OUT_MAX, OUT_MIN #(40.625, 14.0250000000000002)\n",
        "```\n",
        "\n",
        "*boxenplot로 그리기\n",
        "\n",
        "\n",
        "```\n",
        "# boxenplot 그리기\n",
        "sns.boxenplot(data=df, x=\"origin\", y=\"mpg\")\n",
        "```\n",
        "\n",
        "![](https://images.velog.io/images/qsdcfd/post/83bfdcc4-4af8-49f0-8731-77c75504462a/image.png)\n",
        "\n",
        "*violinplot 그리기\n",
        "\n",
        "```\n",
        "# violinplot 그리기\n",
        "sns.violinplot(data=df, x=\"origin\", y=\"mpg\")\n",
        "```\n",
        "\n",
        "![](https://images.velog.io/images/qsdcfd/post/4d86bba6-32f2-4718-9abf-04e26b892a63/image.png)"
      ],
      "metadata": {
        "id": "gJEq1WyBMs82"
      }
    },
    {
      "cell_type": "code",
      "source": [
        ""
      ],
      "metadata": {
        "id": "5eSwImvvMt1p"
      },
      "execution_count": null,
      "outputs": []
    }
  ]
}
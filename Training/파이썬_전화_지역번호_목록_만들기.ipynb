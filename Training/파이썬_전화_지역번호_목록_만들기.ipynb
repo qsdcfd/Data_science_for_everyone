{
  "cells": [
    {
      "cell_type": "markdown",
      "metadata": {
        "id": "GCdUhEgbSed_"
      },
      "source": [
        "## 딕셔너리의 결과가 아래와 같이 나오도록 아래의 문자열을 변경해 보세요.\n",
        "```\n",
        "{'경기': '031',\n",
        "'강원': '033',\n",
        "'충남': '041',\n",
        "'충북': '043',\n",
        "'경북': '054',\n",
        "'경남': '055',\n",
        "'전남': '061',\n",
        "'전북': '063'}\n",
        "```"
      ]
    },
    {
      "cell_type": "markdown",
      "source": [
        "1. 문자열을 \">\" 문자로 나눕니다.(split)\n",
        "\n",
        "2. 반복문으로 문자열을 나눠 만든 리스트를 순회합니다.(for)\n",
        "\n",
        "3. 비어있는 문자일때는 건너뜁니다.\n",
        "\n",
        "4. 비어있지 않다면 공백으로 나눕니다.(split)\n",
        "\n",
        "5. 나눈 문자열로 지역과 지역번호를 구분해서 dict 에 넣어줍니다.\n",
        "\n",
        "6. 딕셔너리를 출력해서 잘 만들어졌는지 확인해 봅니다."
      ],
      "metadata": {
        "id": "TnPL6VsjSvvm"
      }
    },
    {
      "cell_type": "code",
      "execution_count": 1,
      "metadata": {
        "id": "41_hRcX9SeeL",
        "colab": {
          "base_uri": "https://localhost:8080/",
          "height": 35
        },
        "outputId": "847cb6bc-162f-4442-f369-873d03953ce0"
      },
      "outputs": [
        {
          "output_type": "execute_result",
          "data": {
            "application/vnd.google.colaboratory.intrinsic+json": {
              "type": "string"
            },
            "text/plain": [
              "'>경기 031 >강원 033 >충남 041 >충북 043 >경북 054 >경남 055 >전남 061 >전북 063'"
            ]
          },
          "metadata": {},
          "execution_count": 1
        }
      ],
      "source": [
        "# 아래의 문자를 딕셔너리 형태로 변경하기\n",
        "phone = \">경기 031 >강원 033 >충남 041 >충북 043 >경북 054 >경남 055 >전남 061 >전북 063\"\n",
        "# \">\" 문자를 기준으로 문자열을 나눕니다. => split() 으로 리스트로 변환\n",
        "# for문으로 리스트를 반복해서 phone_dict 에 채웁니다.\n",
        "phone"
      ]
    },
    {
      "cell_type": "code",
      "execution_count": 4,
      "metadata": {
        "id": "_qKB7G6JSeeP",
        "colab": {
          "base_uri": "https://localhost:8080/"
        },
        "outputId": "ee6a28d9-4b39-49b0-aeb9-107a66555466"
      },
      "outputs": [
        {
          "output_type": "execute_result",
          "data": {
            "text/plain": [
              "['',\n",
              " '경기 031 ',\n",
              " '강원 033 ',\n",
              " '충남 041 ',\n",
              " '충북 043 ',\n",
              " '경북 054 ',\n",
              " '경남 055 ',\n",
              " '전남 061 ',\n",
              " '전북 063']"
            ]
          },
          "metadata": {},
          "execution_count": 4
        }
      ],
      "source": [
        "# split 을 통해 문자열을 나눕니다.\n",
        "# phone_list\n",
        "phone_list = phone.split(\">\")\n",
        "phone_list"
      ]
    },
    {
      "cell_type": "code",
      "execution_count": 5,
      "metadata": {
        "id": "p1FpEi6cSeeQ",
        "colab": {
          "base_uri": "https://localhost:8080/",
          "height": 35
        },
        "outputId": "f1f464e7-26d0-4436-f0cb-2cf154448823"
      },
      "outputs": [
        {
          "output_type": "execute_result",
          "data": {
            "application/vnd.google.colaboratory.intrinsic+json": {
              "type": "string"
            },
            "text/plain": [
              "''"
            ]
          },
          "metadata": {},
          "execution_count": 5
        }
      ],
      "source": [
        "phone_list[0]"
      ]
    },
    {
      "cell_type": "code",
      "execution_count": 6,
      "metadata": {
        "id": "wKQ9f1jJSeeR",
        "colab": {
          "base_uri": "https://localhost:8080/",
          "height": 35
        },
        "outputId": "5d69996f-495f-49c7-93dd-e5a486086b7a"
      },
      "outputs": [
        {
          "output_type": "execute_result",
          "data": {
            "application/vnd.google.colaboratory.intrinsic+json": {
              "type": "string"
            },
            "text/plain": [
              "'경'"
            ]
          },
          "metadata": {},
          "execution_count": 6
        }
      ],
      "source": [
        "phone[1]"
      ]
    },
    {
      "cell_type": "code",
      "execution_count": 7,
      "metadata": {
        "id": "3Uvi7PL_SeeS",
        "colab": {
          "base_uri": "https://localhost:8080/"
        },
        "outputId": "36bd1e43-90eb-43f0-cf85-0f8fe360f8d0"
      },
      "outputs": [
        {
          "output_type": "execute_result",
          "data": {
            "text/plain": [
              "['경기', '031']"
            ]
          },
          "metadata": {},
          "execution_count": 7
        }
      ],
      "source": [
        "phone_list[1].split()"
      ]
    },
    {
      "cell_type": "code",
      "source": [
        "for p in phone_list:\n",
        "    print (p)"
      ],
      "metadata": {
        "colab": {
          "base_uri": "https://localhost:8080/"
        },
        "id": "OePsR4pGTP6V",
        "outputId": "bae49e96-bf8e-4720-88de-a5cc5aba0fd0"
      },
      "execution_count": 9,
      "outputs": [
        {
          "output_type": "stream",
          "name": "stdout",
          "text": [
            "\n",
            "경기 031 \n",
            "강원 033 \n",
            "충남 041 \n",
            "충북 043 \n",
            "경북 054 \n",
            "경남 055 \n",
            "전남 061 \n",
            "전북 063\n"
          ]
        }
      ]
    },
    {
      "cell_type": "code",
      "source": [
        "for p in phone_list:\n",
        "    print (p)"
      ],
      "metadata": {
        "colab": {
          "base_uri": "https://localhost:8080/"
        },
        "id": "KqdxTrCZTTqw",
        "outputId": "6b2ebec8-9423-400c-ee04-c6ccf518784b"
      },
      "execution_count": 10,
      "outputs": [
        {
          "output_type": "stream",
          "name": "stdout",
          "text": [
            "[]\n",
            "['경기', '031']\n",
            "['강원', '033']\n",
            "['충남', '041']\n",
            "['충북', '043']\n",
            "['경북', '054']\n",
            "['경남', '055']\n",
            "['전남', '061']\n",
            "['전북', '063']\n"
          ]
        }
      ]
    },
    {
      "cell_type": "code",
      "source": [
        "phone_dict ={}\n",
        "for p in phone_list:\n",
        "    p_split = p.split()\n",
        "    if len(p_split) > 0:\n",
        "        key = p_split[0]\n",
        "        val = p_split[1]\n",
        "        phone_dict[key] = val\n",
        "        print(key, val)"
      ],
      "metadata": {
        "colab": {
          "base_uri": "https://localhost:8080/"
        },
        "id": "1w1sYwpmTYxs",
        "outputId": "56e0b80e-6628-4cea-c9ab-a1245de9660b"
      },
      "execution_count": 12,
      "outputs": [
        {
          "output_type": "stream",
          "name": "stdout",
          "text": [
            "경기 031\n",
            "강원 033\n",
            "충남 041\n",
            "충북 043\n",
            "경북 054\n",
            "경남 055\n",
            "전남 061\n",
            "전북 063\n"
          ]
        }
      ]
    },
    {
      "cell_type": "code",
      "source": [
        "phone_dict"
      ],
      "metadata": {
        "colab": {
          "base_uri": "https://localhost:8080/"
        },
        "id": "1mX2mFAUT43O",
        "outputId": "f0f74e86-b3c4-4e88-f8ea-589d7d91516a"
      },
      "execution_count": 13,
      "outputs": [
        {
          "output_type": "execute_result",
          "data": {
            "text/plain": [
              "{'강원': '033',\n",
              " '경기': '031',\n",
              " '경남': '055',\n",
              " '경북': '054',\n",
              " '전남': '061',\n",
              " '전북': '063',\n",
              " '충남': '041',\n",
              " '충북': '043'}"
            ]
          },
          "metadata": {},
          "execution_count": 13
        }
      ]
    },
    {
      "cell_type": "code",
      "source": [
        ""
      ],
      "metadata": {
        "id": "EdwKnCCZUCCN"
      },
      "execution_count": null,
      "outputs": []
    }
  ],
  "metadata": {
    "colab": {
      "collapsed_sections": [
        "thxfIvC6u4Ga",
        "tMKs81M3sQ9e",
        "uQ0VMYAbu4Gi",
        "ZYBqz3-MsQ94",
        "-mqoFD_Bu4Gv",
        "x4H0bcnisQ-F",
        "Axqztu27sQ-N",
        "Cc2lnQWmsQ-U",
        "AAv0qz8gsQ-o",
        "uzFfT5GTu4Js"
      ],
      "name": " 파이썬 전화 지역번호 목록 만들기",
      "provenance": []
    },
    "kernelspec": {
      "display_name": "Python 3",
      "language": "python",
      "name": "python3"
    },
    "language_info": {
      "codemirror_mode": {
        "name": "ipython",
        "version": 3
      },
      "file_extension": ".py",
      "mimetype": "text/x-python",
      "name": "python",
      "nbconvert_exporter": "python",
      "pygments_lexer": "ipython3",
      "version": "3.7.6"
    },
    "toc": {
      "base_numbering": 1,
      "nav_menu": {},
      "number_sections": true,
      "sideBar": true,
      "skip_h1_title": false,
      "title_cell": "Table of Contents",
      "title_sidebar": "Contents",
      "toc_cell": false,
      "toc_position": {},
      "toc_section_display": true,
      "toc_window_display": false
    },
    "varInspector": {
      "cols": {
        "lenName": 16,
        "lenType": 16,
        "lenVar": 40
      },
      "kernels_config": {
        "python": {
          "delete_cmd_postfix": "",
          "delete_cmd_prefix": "del ",
          "library": "var_list.py",
          "varRefreshCmd": "print(var_dic_list())"
        },
        "r": {
          "delete_cmd_postfix": ") ",
          "delete_cmd_prefix": "rm(",
          "library": "var_list.r",
          "varRefreshCmd": "cat(var_dic_list()) "
        }
      },
      "types_to_exclude": [
        "module",
        "function",
        "builtin_function_or_method",
        "instance",
        "_Feature"
      ],
      "window_display": false
    }
  },
  "nbformat": 4,
  "nbformat_minor": 0
}
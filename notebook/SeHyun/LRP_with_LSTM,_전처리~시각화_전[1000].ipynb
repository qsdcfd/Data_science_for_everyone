{
  "nbformat": 4,
  "nbformat_minor": 0,
  "metadata": {
    "colab": {
      "name": "LRP with LSTM, 전처리~시각화 전[1000]",
      "provenance": [],
      "machine_shape": "hm",
      "collapsed_sections": [],
      "authorship_tag": "ABX9TyNh5xARrIGCrAN8Q6YOSSQK"
    },
    "kernelspec": {
      "name": "python3",
      "display_name": "Python 3"
    },
    "language_info": {
      "name": "python"
    },
    "accelerator": "GPU"
  },
  "cells": [
    {
      "cell_type": "markdown",
      "source": [
        "#### 데이터 불러오기\n"
      ],
      "metadata": {
        "id": "A7tlLDKbermo"
      }
    },
    {
      "cell_type": "code",
      "execution_count": 1,
      "metadata": {
        "id": "WMhn1Bcrb8NB"
      },
      "outputs": [],
      "source": [
        "#For more detail preprocessing script, please refer 'PyConKorea2019-Tutorials/LRP/preprocessing.ipynb'\n",
        "import pickle\n",
        "import numpy as np\n",
        "#load \n",
        "with open(\"nsmc_train_x.txt\", \"rb\") as fp:\n",
        "    X_train = pickle.load(fp)\n",
        "with open(\"nsmc_test_x.txt\", \"rb\") as fp:\n",
        "    X_test = pickle.load(fp)\n",
        "with open(\"nsmc_train_y.txt\", \"rb\") as fp:\n",
        "    train_y = pickle.load(fp)\n",
        "with open(\"nsmc_test_y.txt\", \"rb\") as fp:\n",
        "    test_y = pickle.load(fp)\n",
        "with open(\"nsmc_selected_words.txt\", \"rb\") as fp:\n",
        "    selected_words_10000 = pickle.load(fp) "
      ]
    },
    {
      "cell_type": "markdown",
      "source": [
        "### 데이터 전처리\n",
        "\n"
      ],
      "metadata": {
        "id": "1mdA_7OHfJry"
      }
    },
    {
      "cell_type": "code",
      "source": [
        "def read_data(filename):\n",
        "    with open(filename, 'r') as f:\n",
        "        data = [line.split('\\t') for line in f.read().splitlines()]\n",
        "        # txt 파일의 헤더(id document label)는 제외하기\n",
        "        data = data[1:]\n",
        "    return data\n",
        "\n",
        "train_data = read_data('nsmc/ratings_train.txt')\n",
        "test_data = read_data('nsmc/ratings_test.txt')"
      ],
      "metadata": {
        "id": "voHIEThnfJPS"
      },
      "execution_count": 10,
      "outputs": []
    },
    {
      "cell_type": "code",
      "source": [
        "print(len(train_data))\n",
        "print(len(train_data[0]))\n",
        "print(len(test_data))\n",
        "print(len(test_data[0]))"
      ],
      "metadata": {
        "colab": {
          "base_uri": "https://localhost:8080/"
        },
        "id": "T5QiARvAiN9m",
        "outputId": "d199f26b-a195-41c7-f1b1-ca43c298f5a4"
      },
      "execution_count": 11,
      "outputs": [
        {
          "output_type": "stream",
          "name": "stdout",
          "text": [
            "150000\n",
            "3\n",
            "50000\n",
            "3\n"
          ]
        }
      ]
    },
    {
      "cell_type": "markdown",
      "source": [
        "이제 데이터를 학습하기에 알맞게 처리를 해볼텐데요, KoNLPy 라이브러리를 이용해서 형태소 분석 및 품사 태깅을 하겠습니다.\n",
        "이전 예제처럼 주어진 단어의 빈도만을 사용해서 처리해도 되지만 한국어는 영어와는 달리 띄어쓰기로 의미를 구분짓기에는 한계가 있고,\n",
        "네이버 영화 데이터에는 맞춤법이나 띄어쓰기가 제대로 되어있지 않은 경우가 있기 때문에 정확한 분류를 위해서 KoNLPy를 이용하겠습니다.\n",
        "\n",
        "KoNLPy는 띄어쓰기 알고리즘과 정규화를 이용해서 맞춤법이 틀린 문장도 어느 정도 고쳐주면서 형태소 분석과 품사를 태깅해주는 여러 클래스를 제공합니다. 링크참조\n",
        "그 중에서 Okt(Open Korean Text) 클래스를 이용하겠습니다."
      ],
      "metadata": {
        "id": "VmP5uEA3is8Z"
      }
    },
    {
      "cell_type": "code",
      "source": [
        "!pip install konlpy "
      ],
      "metadata": {
        "colab": {
          "base_uri": "https://localhost:8080/"
        },
        "id": "9CB_Tm_bibWp",
        "outputId": "aa33ed85-35c7-43b1-b88e-fa514e8575ff"
      },
      "execution_count": 12,
      "outputs": [
        {
          "output_type": "stream",
          "name": "stdout",
          "text": [
            "Requirement already satisfied: konlpy in /usr/local/lib/python3.7/dist-packages (0.6.0)\n",
            "Requirement already satisfied: JPype1>=0.7.0 in /usr/local/lib/python3.7/dist-packages (from konlpy) (1.3.0)\n",
            "Requirement already satisfied: numpy>=1.6 in /usr/local/lib/python3.7/dist-packages (from konlpy) (1.18.5)\n",
            "Requirement already satisfied: lxml>=4.1.0 in /usr/local/lib/python3.7/dist-packages (from konlpy) (4.2.6)\n",
            "Requirement already satisfied: typing-extensions in /usr/local/lib/python3.7/dist-packages (from JPype1>=0.7.0->konlpy) (3.10.0.2)\n"
          ]
        }
      ]
    },
    {
      "cell_type": "code",
      "source": [
        "import konlpy\n",
        "\n",
        "konlpy.__version__"
      ],
      "metadata": {
        "colab": {
          "base_uri": "https://localhost:8080/",
          "height": 36
        },
        "id": "nIdaYW97iOA7",
        "outputId": "026ea9cf-01d0-46d2-ab19-d0bd973618ec"
      },
      "execution_count": 13,
      "outputs": [
        {
          "output_type": "execute_result",
          "data": {
            "application/vnd.google.colaboratory.intrinsic+json": {
              "type": "string"
            },
            "text/plain": [
              "'0.6.0'"
            ]
          },
          "metadata": {},
          "execution_count": 13
        }
      ]
    },
    {
      "cell_type": "markdown",
      "source": [
        "Okt를 이용해서 간단하게 문장을 분석해보겠습니다."
      ],
      "metadata": {
        "id": "IAb_PuYRiuY5"
      }
    },
    {
      "cell_type": "code",
      "source": [
        "from konlpy.tag import Okt\n",
        "\n",
        "okt = Okt()\n",
        "print(okt.pos(u'이 밤 그날의 반딧불을 당신의 창 가까이 보낼게요'))"
      ],
      "metadata": {
        "colab": {
          "base_uri": "https://localhost:8080/"
        },
        "id": "jyZS8JKwiOFk",
        "outputId": "0c495fbf-7949-48c8-d9fc-729c4668ae5d"
      },
      "execution_count": 14,
      "outputs": [
        {
          "output_type": "stream",
          "name": "stdout",
          "text": [
            "[('이', 'Noun'), ('밤', 'Noun'), ('그날', 'Noun'), ('의', 'Josa'), ('반딧불', 'Noun'), ('을', 'Josa'), ('당신', 'Noun'), ('의', 'Josa'), ('창', 'Noun'), ('가까이', 'Noun'), ('보낼게요', 'Verb')]\n"
          ]
        }
      ]
    },
    {
      "cell_type": "markdown",
      "source": [
        "이제 아까 불러온 데이터에 형태소 분석을 통해서 품사를 태깅해주는 작업을 하겠습니다.\n",
        "데이터의 양이 큰 만큼 시간이 오래 걸리기 때문에 이 작업을 반복하지 않도록 한 번 태깅을 마친 후에는 json 파일로 저장하는 것을 추천합니다.\n",
        "여기에서는 이미 태깅이 완료된 train_docs.json 파일이 존재하면 반복하지 않도록 만들었습니다."
      ],
      "metadata": {
        "id": "Hzmcu6p3iw_u"
      }
    },
    {
      "cell_type": "code",
      "source": [
        "import json\n",
        "import os\n",
        "from pprint import pprint\n",
        "\n",
        "def tokenize(doc):\n",
        "    # norm은 정규화, stem은 근어로 표시하기를 나타냄\n",
        "    return ['/'.join(t) for t in okt.pos(doc, norm=True, stem=True)]\n",
        "\n",
        "if os.path.isfile('nsmc/train_docs.json'):\n",
        "    with open('nsmc/train_docs.json') as f:\n",
        "        train_docs = json.load(f)\n",
        "    with open('nsmc/test_docs.json') as f:\n",
        "        test_docs = json.load(f)\n",
        "else:\n",
        "    train_docs = [(tokenize(row[1]), row[2]) for row in train_data]\n",
        "    test_docs = [(tokenize(row[1]), row[2]) for row in test_data]\n",
        "    # JSON 파일로 저장\n",
        "    with open('nsmc/train_docs.json', 'w', encoding=\"utf-8\") as make_file:\n",
        "        json.dump(train_docs, make_file, ensure_ascii=False, indent=\"\\t\")\n",
        "    with open('nsmc/test_docs.json', 'w', encoding=\"utf-8\") as make_file:\n",
        "        json.dump(test_docs, make_file, ensure_ascii=False, indent=\"\\t\")\n",
        "\n",
        "# 예쁘게(?) 출력하기 위해서 pprint 라이브러리 사용\n",
        "pprint(train_docs[0])"
      ],
      "metadata": {
        "colab": {
          "base_uri": "https://localhost:8080/"
        },
        "id": "LYSghLgnixMP",
        "outputId": "f7160cf4-551d-4bc5-fd93-aeb6fc47525c"
      },
      "execution_count": 15,
      "outputs": [
        {
          "output_type": "stream",
          "name": "stdout",
          "text": [
            "[['아/Exclamation',\n",
            "  '더빙/Noun',\n",
            "  '../Punctuation',\n",
            "  '진짜/Noun',\n",
            "  '짜증나다/Adjective',\n",
            "  '목소리/Noun'],\n",
            " '0']\n"
          ]
        }
      ]
    },
    {
      "cell_type": "markdown",
      "source": [
        "분석한 데이터의 토큰(문자열을 분석을 위한 작은 단위)의 갯수를 확인해봅시다."
      ],
      "metadata": {
        "id": "c_aBx5swqN4M"
      }
    },
    {
      "cell_type": "code",
      "source": [
        "tokens = [t for d in train_docs for t in d[0]]\n",
        "print(len(tokens))"
      ],
      "metadata": {
        "colab": {
          "base_uri": "https://localhost:8080/"
        },
        "id": "SuyNM09bixPI",
        "outputId": "1aca1eaa-10a6-42aa-c225-b9c87c9b1e53"
      },
      "execution_count": 16,
      "outputs": [
        {
          "output_type": "stream",
          "name": "stdout",
          "text": [
            "2159921\n"
          ]
        }
      ]
    },
    {
      "cell_type": "markdown",
      "source": [
        "이제 이 데이터를 nltk 라이브러리를 통해서 전처리를 해볼텐데요, Text 클래스는 문서를 편리하게 탐색할 수 있는 다양한 기능을 제공합니다.\n",
        "여기에서는 vocab().most_common 메서드를 이용해서 데이터에서 가장 자주 사용되는 단어를 가져올 때 사용하겠습니다.\n",
        "\n"
      ],
      "metadata": {
        "id": "0dy_ZciZqcCO"
      }
    },
    {
      "cell_type": "code",
      "source": [
        "import nltk\n",
        "text = nltk.Text(tokens, name='NMSC')\n",
        "print(text)"
      ],
      "metadata": {
        "colab": {
          "base_uri": "https://localhost:8080/"
        },
        "id": "F5lWuagmixRr",
        "outputId": "dea79af9-680c-42a9-9847-0592ccbab56e"
      },
      "execution_count": 17,
      "outputs": [
        {
          "output_type": "stream",
          "name": "stdout",
          "text": [
            "<Text: NMSC>\n"
          ]
        }
      ]
    },
    {
      "cell_type": "code",
      "source": [
        "# 전체 토큰의 개수\n",
        "print(len(text.tokens))\n",
        "\n",
        "# 중복을 제외한 토큰의 개수\n",
        "print(len(set(text.tokens)))            \n",
        "\n",
        "# 출현 빈도가 높은 상위 토큰 10개\n",
        "pprint(text.vocab().most_common(10))"
      ],
      "metadata": {
        "colab": {
          "base_uri": "https://localhost:8080/"
        },
        "id": "iP-uDsveqgUQ",
        "outputId": "ac77df51-411a-4407-d705-72f7e5e277a9"
      },
      "execution_count": 18,
      "outputs": [
        {
          "output_type": "stream",
          "name": "stdout",
          "text": [
            "2159921\n",
            "49895\n",
            "[('./Punctuation', 67778),\n",
            " ('영화/Noun', 50818),\n",
            " ('하다/Verb', 41209),\n",
            " ('이/Josa', 38540),\n",
            " ('보다/Verb', 38538),\n",
            " ('의/Josa', 30188),\n",
            " ('../Punctuation', 29055),\n",
            " ('가/Josa', 26627),\n",
            " ('에/Josa', 26468),\n",
            " ('을/Josa', 23118)]\n"
          ]
        }
      ]
    },
    {
      "cell_type": "markdown",
      "source": [
        "자주 나오는 단어 50개를 matplotlib 라이브러리를 통해서 그래프로 나타내보겠습니다.\n",
        "\n",
        "한편 한글 폰트를 로드해야 글씨가 깨지지 않고 출력이 되는데요,\n",
        "윈도우에서는 font_fname 을 'c:/windows/fonts/gulim.ttc',\n",
        "리눅스에서는 /usr/share/fonts/nanumfont/NanumGothic.ttf 등으로 설정해야 합니다."
      ],
      "metadata": {
        "id": "wgChld5Jqk9s"
      }
    },
    {
      "cell_type": "code",
      "source": [
        "import matplotlib.pyplot as plt\n",
        "from matplotlib import font_manager, rc\n",
        "%matplotlib inline\n",
        "\n",
        "font_fname = 'Fonts/applegothic.ttf'\n",
        "font_name = font_manager.FontProperties(fname=font_fname).get_name()\n",
        "rc('font', family=font_name)\n",
        "\n",
        "plt.figure(figsize=(20,10))\n",
        "text.plot(50)"
      ],
      "metadata": {
        "colab": {
          "base_uri": "https://localhost:8080/",
          "height": 1000
        },
        "id": "cBH0BTLS2--o",
        "outputId": "59eb6634-dbb4-449e-c410-033e84758d9e"
      },
      "execution_count": 19,
      "outputs": [
        {
          "output_type": "stream",
          "name": "stderr",
          "text": [
            "findfont: Font family ['AppleGothic'] not found. Falling back to DejaVu Sans.\n",
            "/usr/local/lib/python3.7/dist-packages/matplotlib/backends/backend_agg.py:214: RuntimeWarning: Glyph 50689 missing from current font.\n",
            "  font.set_text(s, 0.0, flags=flags)\n",
            "/usr/local/lib/python3.7/dist-packages/matplotlib/backends/backend_agg.py:214: RuntimeWarning: Glyph 54868 missing from current font.\n",
            "  font.set_text(s, 0.0, flags=flags)\n",
            "/usr/local/lib/python3.7/dist-packages/matplotlib/backends/backend_agg.py:214: RuntimeWarning: Glyph 54616 missing from current font.\n",
            "  font.set_text(s, 0.0, flags=flags)\n",
            "/usr/local/lib/python3.7/dist-packages/matplotlib/backends/backend_agg.py:214: RuntimeWarning: Glyph 45796 missing from current font.\n",
            "  font.set_text(s, 0.0, flags=flags)\n",
            "/usr/local/lib/python3.7/dist-packages/matplotlib/backends/backend_agg.py:214: RuntimeWarning: Glyph 51060 missing from current font.\n",
            "  font.set_text(s, 0.0, flags=flags)\n",
            "/usr/local/lib/python3.7/dist-packages/matplotlib/backends/backend_agg.py:214: RuntimeWarning: Glyph 48372 missing from current font.\n",
            "  font.set_text(s, 0.0, flags=flags)\n",
            "/usr/local/lib/python3.7/dist-packages/matplotlib/backends/backend_agg.py:214: RuntimeWarning: Glyph 51032 missing from current font.\n",
            "  font.set_text(s, 0.0, flags=flags)\n",
            "/usr/local/lib/python3.7/dist-packages/matplotlib/backends/backend_agg.py:214: RuntimeWarning: Glyph 44032 missing from current font.\n",
            "  font.set_text(s, 0.0, flags=flags)\n",
            "/usr/local/lib/python3.7/dist-packages/matplotlib/backends/backend_agg.py:214: RuntimeWarning: Glyph 50640 missing from current font.\n",
            "  font.set_text(s, 0.0, flags=flags)\n",
            "/usr/local/lib/python3.7/dist-packages/matplotlib/backends/backend_agg.py:214: RuntimeWarning: Glyph 51012 missing from current font.\n",
            "  font.set_text(s, 0.0, flags=flags)\n",
            "/usr/local/lib/python3.7/dist-packages/matplotlib/backends/backend_agg.py:214: RuntimeWarning: Glyph 46020 missing from current font.\n",
            "  font.set_text(s, 0.0, flags=flags)\n",
            "/usr/local/lib/python3.7/dist-packages/matplotlib/backends/backend_agg.py:214: RuntimeWarning: Glyph 51008 missing from current font.\n",
            "  font.set_text(s, 0.0, flags=flags)\n",
            "/usr/local/lib/python3.7/dist-packages/matplotlib/backends/backend_agg.py:214: RuntimeWarning: Glyph 46308 missing from current font.\n",
            "  font.set_text(s, 0.0, flags=flags)\n",
            "/usr/local/lib/python3.7/dist-packages/matplotlib/backends/backend_agg.py:214: RuntimeWarning: Glyph 45716 missing from current font.\n",
            "  font.set_text(s, 0.0, flags=flags)\n",
            "/usr/local/lib/python3.7/dist-packages/matplotlib/backends/backend_agg.py:214: RuntimeWarning: Glyph 50630 missing from current font.\n",
            "  font.set_text(s, 0.0, flags=flags)\n",
            "/usr/local/lib/python3.7/dist-packages/matplotlib/backends/backend_agg.py:214: RuntimeWarning: Glyph 47484 missing from current font.\n",
            "  font.set_text(s, 0.0, flags=flags)\n",
            "/usr/local/lib/python3.7/dist-packages/matplotlib/backends/backend_agg.py:214: RuntimeWarning: Glyph 51080 missing from current font.\n",
            "  font.set_text(s, 0.0, flags=flags)\n",
            "/usr/local/lib/python3.7/dist-packages/matplotlib/backends/backend_agg.py:214: RuntimeWarning: Glyph 51339 missing from current font.\n",
            "  font.set_text(s, 0.0, flags=flags)\n",
            "/usr/local/lib/python3.7/dist-packages/matplotlib/backends/backend_agg.py:214: RuntimeWarning: Glyph 45320 missing from current font.\n",
            "  font.set_text(s, 0.0, flags=flags)\n",
            "/usr/local/lib/python3.7/dist-packages/matplotlib/backends/backend_agg.py:214: RuntimeWarning: Glyph 47924 missing from current font.\n",
            "  font.set_text(s, 0.0, flags=flags)\n",
            "/usr/local/lib/python3.7/dist-packages/matplotlib/backends/backend_agg.py:214: RuntimeWarning: Glyph 51116 missing from current font.\n",
            "  font.set_text(s, 0.0, flags=flags)\n",
            "/usr/local/lib/python3.7/dist-packages/matplotlib/backends/backend_agg.py:214: RuntimeWarning: Glyph 48140 missing from current font.\n",
            "  font.set_text(s, 0.0, flags=flags)\n",
            "/usr/local/lib/python3.7/dist-packages/matplotlib/backends/backend_agg.py:214: RuntimeWarning: Glyph 51221 missing from current font.\n",
            "  font.set_text(s, 0.0, flags=flags)\n",
            "/usr/local/lib/python3.7/dist-packages/matplotlib/backends/backend_agg.py:214: RuntimeWarning: Glyph 47568 missing from current font.\n",
            "  font.set_text(s, 0.0, flags=flags)\n",
            "/usr/local/lib/python3.7/dist-packages/matplotlib/backends/backend_agg.py:214: RuntimeWarning: Glyph 44163 missing from current font.\n",
            "  font.set_text(s, 0.0, flags=flags)\n",
            "/usr/local/lib/python3.7/dist-packages/matplotlib/backends/backend_agg.py:214: RuntimeWarning: Glyph 46104 missing from current font.\n",
            "  font.set_text(s, 0.0, flags=flags)\n",
            "/usr/local/lib/python3.7/dist-packages/matplotlib/backends/backend_agg.py:214: RuntimeWarning: Glyph 51652 missing from current font.\n",
            "  font.set_text(s, 0.0, flags=flags)\n",
            "/usr/local/lib/python3.7/dist-packages/matplotlib/backends/backend_agg.py:214: RuntimeWarning: Glyph 51676 missing from current font.\n",
            "  font.set_text(s, 0.0, flags=flags)\n",
            "/usr/local/lib/python3.7/dist-packages/matplotlib/backends/backend_agg.py:214: RuntimeWarning: Glyph 44057 missing from current font.\n",
            "  font.set_text(s, 0.0, flags=flags)\n",
            "/usr/local/lib/python3.7/dist-packages/matplotlib/backends/backend_agg.py:214: RuntimeWarning: Glyph 51201 missing from current font.\n",
            "  font.set_text(s, 0.0, flags=flags)\n",
            "/usr/local/lib/python3.7/dist-packages/matplotlib/backends/backend_agg.py:214: RuntimeWarning: Glyph 51004 missing from current font.\n",
            "  font.set_text(s, 0.0, flags=flags)\n",
            "/usr/local/lib/python3.7/dist-packages/matplotlib/backends/backend_agg.py:214: RuntimeWarning: Glyph 47196 missing from current font.\n",
            "  font.set_text(s, 0.0, flags=flags)\n",
            "/usr/local/lib/python3.7/dist-packages/matplotlib/backends/backend_agg.py:214: RuntimeWarning: Glyph 51216 missing from current font.\n",
            "  font.set_text(s, 0.0, flags=flags)\n",
            "/usr/local/lib/python3.7/dist-packages/matplotlib/backends/backend_agg.py:214: RuntimeWarning: Glyph 50500 missing from current font.\n",
            "  font.set_text(s, 0.0, flags=flags)\n",
            "/usr/local/lib/python3.7/dist-packages/matplotlib/backends/backend_agg.py:214: RuntimeWarning: Glyph 45768 missing from current font.\n",
            "  font.set_text(s, 0.0, flags=flags)\n",
            "/usr/local/lib/python3.7/dist-packages/matplotlib/backends/backend_agg.py:214: RuntimeWarning: Glyph 50506 missing from current font.\n",
            "  font.set_text(s, 0.0, flags=flags)\n",
            "/usr/local/lib/python3.7/dist-packages/matplotlib/backends/backend_agg.py:214: RuntimeWarning: Glyph 49436 missing from current font.\n",
            "  font.set_text(s, 0.0, flags=flags)\n",
            "/usr/local/lib/python3.7/dist-packages/matplotlib/backends/backend_agg.py:214: RuntimeWarning: Glyph 47564 missing from current font.\n",
            "  font.set_text(s, 0.0, flags=flags)\n",
            "/usr/local/lib/python3.7/dist-packages/matplotlib/backends/backend_agg.py:214: RuntimeWarning: Glyph 50672 missing from current font.\n",
            "  font.set_text(s, 0.0, flags=flags)\n",
            "/usr/local/lib/python3.7/dist-packages/matplotlib/backends/backend_agg.py:214: RuntimeWarning: Glyph 44592 missing from current font.\n",
            "  font.set_text(s, 0.0, flags=flags)\n",
            "/usr/local/lib/python3.7/dist-packages/matplotlib/backends/backend_agg.py:214: RuntimeWarning: Glyph 45208 missing from current font.\n",
            "  font.set_text(s, 0.0, flags=flags)\n",
            "/usr/local/lib/python3.7/dist-packages/matplotlib/backends/backend_agg.py:214: RuntimeWarning: Glyph 50724 missing from current font.\n",
            "  font.set_text(s, 0.0, flags=flags)\n",
            "/usr/local/lib/python3.7/dist-packages/matplotlib/backends/backend_agg.py:214: RuntimeWarning: Glyph 54217 missing from current font.\n",
            "  font.set_text(s, 0.0, flags=flags)\n",
            "/usr/local/lib/python3.7/dist-packages/matplotlib/backends/backend_agg.py:214: RuntimeWarning: Glyph 44284 missing from current font.\n",
            "  font.set_text(s, 0.0, flags=flags)\n",
            "/usr/local/lib/python3.7/dist-packages/matplotlib/backends/backend_agg.py:214: RuntimeWarning: Glyph 52572 missing from current font.\n",
            "  font.set_text(s, 0.0, flags=flags)\n",
            "/usr/local/lib/python3.7/dist-packages/matplotlib/backends/backend_agg.py:214: RuntimeWarning: Glyph 44256 missing from current font.\n",
            "  font.set_text(s, 0.0, flags=flags)\n",
            "/usr/local/lib/python3.7/dist-packages/matplotlib/backends/backend_agg.py:214: RuntimeWarning: Glyph 54620 missing from current font.\n",
            "  font.set_text(s, 0.0, flags=flags)\n",
            "/usr/local/lib/python3.7/dist-packages/matplotlib/backends/backend_agg.py:214: RuntimeWarning: Glyph 50780 missing from current font.\n",
            "  font.set_text(s, 0.0, flags=flags)\n",
            "/usr/local/lib/python3.7/dist-packages/matplotlib/backends/backend_agg.py:214: RuntimeWarning: Glyph 49828 missing from current font.\n",
            "  font.set_text(s, 0.0, flags=flags)\n",
            "/usr/local/lib/python3.7/dist-packages/matplotlib/backends/backend_agg.py:214: RuntimeWarning: Glyph 53664 missing from current font.\n",
            "  font.set_text(s, 0.0, flags=flags)\n",
            "/usr/local/lib/python3.7/dist-packages/matplotlib/backends/backend_agg.py:214: RuntimeWarning: Glyph 47532 missing from current font.\n",
            "  font.set_text(s, 0.0, flags=flags)\n",
            "/usr/local/lib/python3.7/dist-packages/matplotlib/backends/backend_agg.py:183: RuntimeWarning: Glyph 50689 missing from current font.\n",
            "  font.set_text(s, 0, flags=flags)\n",
            "/usr/local/lib/python3.7/dist-packages/matplotlib/backends/backend_agg.py:183: RuntimeWarning: Glyph 54868 missing from current font.\n",
            "  font.set_text(s, 0, flags=flags)\n",
            "/usr/local/lib/python3.7/dist-packages/matplotlib/backends/backend_agg.py:183: RuntimeWarning: Glyph 54616 missing from current font.\n",
            "  font.set_text(s, 0, flags=flags)\n",
            "/usr/local/lib/python3.7/dist-packages/matplotlib/backends/backend_agg.py:183: RuntimeWarning: Glyph 45796 missing from current font.\n",
            "  font.set_text(s, 0, flags=flags)\n",
            "/usr/local/lib/python3.7/dist-packages/matplotlib/backends/backend_agg.py:183: RuntimeWarning: Glyph 51060 missing from current font.\n",
            "  font.set_text(s, 0, flags=flags)\n",
            "/usr/local/lib/python3.7/dist-packages/matplotlib/backends/backend_agg.py:183: RuntimeWarning: Glyph 48372 missing from current font.\n",
            "  font.set_text(s, 0, flags=flags)\n",
            "/usr/local/lib/python3.7/dist-packages/matplotlib/backends/backend_agg.py:183: RuntimeWarning: Glyph 51032 missing from current font.\n",
            "  font.set_text(s, 0, flags=flags)\n",
            "/usr/local/lib/python3.7/dist-packages/matplotlib/backends/backend_agg.py:183: RuntimeWarning: Glyph 44032 missing from current font.\n",
            "  font.set_text(s, 0, flags=flags)\n",
            "/usr/local/lib/python3.7/dist-packages/matplotlib/backends/backend_agg.py:183: RuntimeWarning: Glyph 50640 missing from current font.\n",
            "  font.set_text(s, 0, flags=flags)\n",
            "/usr/local/lib/python3.7/dist-packages/matplotlib/backends/backend_agg.py:183: RuntimeWarning: Glyph 51012 missing from current font.\n",
            "  font.set_text(s, 0, flags=flags)\n",
            "/usr/local/lib/python3.7/dist-packages/matplotlib/backends/backend_agg.py:183: RuntimeWarning: Glyph 46020 missing from current font.\n",
            "  font.set_text(s, 0, flags=flags)\n",
            "/usr/local/lib/python3.7/dist-packages/matplotlib/backends/backend_agg.py:183: RuntimeWarning: Glyph 51008 missing from current font.\n",
            "  font.set_text(s, 0, flags=flags)\n",
            "/usr/local/lib/python3.7/dist-packages/matplotlib/backends/backend_agg.py:183: RuntimeWarning: Glyph 46308 missing from current font.\n",
            "  font.set_text(s, 0, flags=flags)\n",
            "/usr/local/lib/python3.7/dist-packages/matplotlib/backends/backend_agg.py:183: RuntimeWarning: Glyph 45716 missing from current font.\n",
            "  font.set_text(s, 0, flags=flags)\n",
            "/usr/local/lib/python3.7/dist-packages/matplotlib/backends/backend_agg.py:183: RuntimeWarning: Glyph 50630 missing from current font.\n",
            "  font.set_text(s, 0, flags=flags)\n",
            "/usr/local/lib/python3.7/dist-packages/matplotlib/backends/backend_agg.py:183: RuntimeWarning: Glyph 47484 missing from current font.\n",
            "  font.set_text(s, 0, flags=flags)\n",
            "/usr/local/lib/python3.7/dist-packages/matplotlib/backends/backend_agg.py:183: RuntimeWarning: Glyph 51080 missing from current font.\n",
            "  font.set_text(s, 0, flags=flags)\n",
            "/usr/local/lib/python3.7/dist-packages/matplotlib/backends/backend_agg.py:183: RuntimeWarning: Glyph 51339 missing from current font.\n",
            "  font.set_text(s, 0, flags=flags)\n",
            "/usr/local/lib/python3.7/dist-packages/matplotlib/backends/backend_agg.py:183: RuntimeWarning: Glyph 45320 missing from current font.\n",
            "  font.set_text(s, 0, flags=flags)\n",
            "/usr/local/lib/python3.7/dist-packages/matplotlib/backends/backend_agg.py:183: RuntimeWarning: Glyph 47924 missing from current font.\n",
            "  font.set_text(s, 0, flags=flags)\n",
            "/usr/local/lib/python3.7/dist-packages/matplotlib/backends/backend_agg.py:183: RuntimeWarning: Glyph 51116 missing from current font.\n",
            "  font.set_text(s, 0, flags=flags)\n",
            "/usr/local/lib/python3.7/dist-packages/matplotlib/backends/backend_agg.py:183: RuntimeWarning: Glyph 48140 missing from current font.\n",
            "  font.set_text(s, 0, flags=flags)\n",
            "/usr/local/lib/python3.7/dist-packages/matplotlib/backends/backend_agg.py:183: RuntimeWarning: Glyph 51221 missing from current font.\n",
            "  font.set_text(s, 0, flags=flags)\n",
            "/usr/local/lib/python3.7/dist-packages/matplotlib/backends/backend_agg.py:183: RuntimeWarning: Glyph 47568 missing from current font.\n",
            "  font.set_text(s, 0, flags=flags)\n",
            "/usr/local/lib/python3.7/dist-packages/matplotlib/backends/backend_agg.py:183: RuntimeWarning: Glyph 44163 missing from current font.\n",
            "  font.set_text(s, 0, flags=flags)\n",
            "/usr/local/lib/python3.7/dist-packages/matplotlib/backends/backend_agg.py:183: RuntimeWarning: Glyph 46104 missing from current font.\n",
            "  font.set_text(s, 0, flags=flags)\n",
            "/usr/local/lib/python3.7/dist-packages/matplotlib/backends/backend_agg.py:183: RuntimeWarning: Glyph 51652 missing from current font.\n",
            "  font.set_text(s, 0, flags=flags)\n",
            "/usr/local/lib/python3.7/dist-packages/matplotlib/backends/backend_agg.py:183: RuntimeWarning: Glyph 51676 missing from current font.\n",
            "  font.set_text(s, 0, flags=flags)\n",
            "/usr/local/lib/python3.7/dist-packages/matplotlib/backends/backend_agg.py:183: RuntimeWarning: Glyph 44057 missing from current font.\n",
            "  font.set_text(s, 0, flags=flags)\n",
            "/usr/local/lib/python3.7/dist-packages/matplotlib/backends/backend_agg.py:183: RuntimeWarning: Glyph 51201 missing from current font.\n",
            "  font.set_text(s, 0, flags=flags)\n",
            "/usr/local/lib/python3.7/dist-packages/matplotlib/backends/backend_agg.py:183: RuntimeWarning: Glyph 51004 missing from current font.\n",
            "  font.set_text(s, 0, flags=flags)\n",
            "/usr/local/lib/python3.7/dist-packages/matplotlib/backends/backend_agg.py:183: RuntimeWarning: Glyph 47196 missing from current font.\n",
            "  font.set_text(s, 0, flags=flags)\n",
            "/usr/local/lib/python3.7/dist-packages/matplotlib/backends/backend_agg.py:183: RuntimeWarning: Glyph 51216 missing from current font.\n",
            "  font.set_text(s, 0, flags=flags)\n",
            "/usr/local/lib/python3.7/dist-packages/matplotlib/backends/backend_agg.py:183: RuntimeWarning: Glyph 50500 missing from current font.\n",
            "  font.set_text(s, 0, flags=flags)\n",
            "/usr/local/lib/python3.7/dist-packages/matplotlib/backends/backend_agg.py:183: RuntimeWarning: Glyph 45768 missing from current font.\n",
            "  font.set_text(s, 0, flags=flags)\n",
            "/usr/local/lib/python3.7/dist-packages/matplotlib/backends/backend_agg.py:183: RuntimeWarning: Glyph 50506 missing from current font.\n",
            "  font.set_text(s, 0, flags=flags)\n",
            "/usr/local/lib/python3.7/dist-packages/matplotlib/backends/backend_agg.py:183: RuntimeWarning: Glyph 49436 missing from current font.\n",
            "  font.set_text(s, 0, flags=flags)\n",
            "/usr/local/lib/python3.7/dist-packages/matplotlib/backends/backend_agg.py:183: RuntimeWarning: Glyph 47564 missing from current font.\n",
            "  font.set_text(s, 0, flags=flags)\n",
            "/usr/local/lib/python3.7/dist-packages/matplotlib/backends/backend_agg.py:183: RuntimeWarning: Glyph 50672 missing from current font.\n",
            "  font.set_text(s, 0, flags=flags)\n",
            "/usr/local/lib/python3.7/dist-packages/matplotlib/backends/backend_agg.py:183: RuntimeWarning: Glyph 44592 missing from current font.\n",
            "  font.set_text(s, 0, flags=flags)\n",
            "/usr/local/lib/python3.7/dist-packages/matplotlib/backends/backend_agg.py:183: RuntimeWarning: Glyph 45208 missing from current font.\n",
            "  font.set_text(s, 0, flags=flags)\n",
            "/usr/local/lib/python3.7/dist-packages/matplotlib/backends/backend_agg.py:183: RuntimeWarning: Glyph 50724 missing from current font.\n",
            "  font.set_text(s, 0, flags=flags)\n",
            "/usr/local/lib/python3.7/dist-packages/matplotlib/backends/backend_agg.py:183: RuntimeWarning: Glyph 54217 missing from current font.\n",
            "  font.set_text(s, 0, flags=flags)\n",
            "/usr/local/lib/python3.7/dist-packages/matplotlib/backends/backend_agg.py:183: RuntimeWarning: Glyph 44284 missing from current font.\n",
            "  font.set_text(s, 0, flags=flags)\n",
            "/usr/local/lib/python3.7/dist-packages/matplotlib/backends/backend_agg.py:183: RuntimeWarning: Glyph 52572 missing from current font.\n",
            "  font.set_text(s, 0, flags=flags)\n",
            "/usr/local/lib/python3.7/dist-packages/matplotlib/backends/backend_agg.py:183: RuntimeWarning: Glyph 44256 missing from current font.\n",
            "  font.set_text(s, 0, flags=flags)\n",
            "/usr/local/lib/python3.7/dist-packages/matplotlib/backends/backend_agg.py:183: RuntimeWarning: Glyph 54620 missing from current font.\n",
            "  font.set_text(s, 0, flags=flags)\n",
            "/usr/local/lib/python3.7/dist-packages/matplotlib/backends/backend_agg.py:183: RuntimeWarning: Glyph 50780 missing from current font.\n",
            "  font.set_text(s, 0, flags=flags)\n",
            "/usr/local/lib/python3.7/dist-packages/matplotlib/backends/backend_agg.py:183: RuntimeWarning: Glyph 49828 missing from current font.\n",
            "  font.set_text(s, 0, flags=flags)\n",
            "/usr/local/lib/python3.7/dist-packages/matplotlib/backends/backend_agg.py:183: RuntimeWarning: Glyph 53664 missing from current font.\n",
            "  font.set_text(s, 0, flags=flags)\n",
            "/usr/local/lib/python3.7/dist-packages/matplotlib/backends/backend_agg.py:183: RuntimeWarning: Glyph 47532 missing from current font.\n",
            "  font.set_text(s, 0, flags=flags)\n"
          ]
        },
        {
          "output_type": "display_data",
          "data": {
            "image/png": "[encoded data removed]",
            "text/plain": [
              "<Figure size 1440x720 with 1 Axes>"
            ]
          },
          "metadata": {
            "needs_background": "light"
          }
        }
      ]
    },
    {
      "cell_type": "markdown",
      "source": [
        "이제 자주 사용되는 토큰 10000개를 사용해서 데이터를 벡터화를 시키겠습니다.\n",
        "여기서는 원 핫 인코딩 대신에 CountVectorization을 사용했습니다.\n",
        "이는 문서 집합에서 단어 토큰을 생성하고 각 단어의 수를 세어 BOW(Bag of Words) 인코딩한 벡터를 만드는 역할을 합니다."
      ],
      "metadata": {
        "id": "q2dH5rm_rKY8"
      }
    },
    {
      "cell_type": "code",
      "source": [
        "#10000개로 하니 자꾸 Ram이 터졌습니다..ㅠ\n",
        "#5000개로 줄여봤습니다.\n",
        "#빠른 학습을 위해 1000으로 했습니다.\n",
        "selected_words = [f[0] for f in text.vocab().most_common(1000)]\n",
        "\n",
        "def term_frequency(doc):\n",
        "    return [doc.count(word) for word in selected_words]\n",
        "\n",
        "train_x = [term_frequency(d) for d, _ in train_docs]\n",
        "test_x = [term_frequency(d) for d, _ in test_docs]\n",
        "train_y = [c for _, c in train_docs]\n",
        "test_y = [c for _, c in test_docs]"
      ],
      "metadata": {
        "id": "yW4gihV-rH5_"
      },
      "execution_count": 20,
      "outputs": []
    },
    {
      "cell_type": "markdown",
      "source": [
        "이제 데이터를 float로 형 변환 시켜주면 데이터 전처리 과정은 끝납니다"
      ],
      "metadata": {
        "id": "bZNNAJ25rPWX"
      }
    },
    {
      "cell_type": "code",
      "source": [
        "import numpy as np\n",
        "\n",
        "x_train = np.asarray(train_x).astype('float32')\n",
        "x_test = np.asarray(test_x).astype('float32')\n",
        "\n",
        "y_train = np.asarray(train_y).astype('float32')\n",
        "y_test = np.asarray(test_y).astype('float32')"
      ],
      "metadata": {
        "id": "I2G6W1Y4rH0v"
      },
      "execution_count": 26,
      "outputs": []
    },
    {
      "cell_type": "markdown",
      "source": [
        "저번의 영화 리뷰에서 사용했던 모델을 조금 변형했습니다.\n",
        "구조는 다음과 같습니다.\n",
        "두 개의 Dense 층은 64개의 유닛을 가지고 활성화 함수로는 relu를 사용했으며, 마지막 층은 sigmoid 활성화 함수를 사용해서 긍정의 리뷰일 확률을 출력합니다.\n",
        "손실 함수로는 binary_crossentropy를 사용했고 RMSProp 옵티마이저를 통해서 경사하강법을 진행했습니다.\n",
        "또한 배치 사이즈를 512로, 에포크를 10번으로 학습시켰습니다.\n",
        "\n",
        "![image.png](data:image/png;base64,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)"
      ],
      "metadata": {
        "id": "7QV77osirWnl"
      }
    },
    {
      "cell_type": "code",
      "source": [
        "from tensorflow.keras import models\n",
        "from tensorflow.keras import layers\n",
        "from tensorflow.keras import optimizers\n",
        "from tensorflow.keras import losses\n",
        "from tensorflow.keras import metrics\n",
        "\n",
        "model = models.Sequential()\n",
        "model.add(layers.Dense(64, activation='relu', input_shape=(1000,)))\n",
        "model.add(layers.Dense(64, activation='relu'))\n",
        "model.add(layers.Dense(1, activation='sigmoid'))\n",
        "\n",
        "model.compile(optimizer=optimizers.RMSprop(lr=0.001),\n",
        "             loss=losses.binary_crossentropy,\n",
        "             metrics=[metrics.binary_accuracy])\n",
        "\n",
        "model.fit(x_train, y_train, epochs=10, batch_size=512)\n",
        "results = model.evaluate(x_test, y_test)"
      ],
      "metadata": {
        "colab": {
          "base_uri": "https://localhost:8080/"
        },
        "id": "VrR4Uz6-rH82",
        "outputId": "ed1abae2-a0a2-4f75-d600-141df383a3de"
      },
      "execution_count": 22,
      "outputs": [
        {
          "output_type": "stream",
          "name": "stdout",
          "text": [
            "Epoch 1/10\n",
            "293/293 [==============================] - 1s 3ms/step - loss: 0.4352 - binary_accuracy: 0.8017\n",
            "Epoch 2/10\n",
            "293/293 [==============================] - 1s 3ms/step - loss: 0.3812 - binary_accuracy: 0.8241\n",
            "Epoch 3/10\n",
            "293/293 [==============================] - 1s 3ms/step - loss: 0.3648 - binary_accuracy: 0.8320\n",
            "Epoch 4/10\n",
            "293/293 [==============================] - 1s 3ms/step - loss: 0.3516 - binary_accuracy: 0.8412\n",
            "Epoch 5/10\n",
            "293/293 [==============================] - 1s 3ms/step - loss: 0.3395 - binary_accuracy: 0.8483\n",
            "Epoch 6/10\n",
            "293/293 [==============================] - 1s 3ms/step - loss: 0.3282 - binary_accuracy: 0.8548\n",
            "Epoch 7/10\n",
            "293/293 [==============================] - 1s 3ms/step - loss: 0.3174 - binary_accuracy: 0.8607\n",
            "Epoch 8/10\n",
            "293/293 [==============================] - 1s 3ms/step - loss: 0.3062 - binary_accuracy: 0.8660\n",
            "Epoch 9/10\n",
            "293/293 [==============================] - 1s 3ms/step - loss: 0.2948 - binary_accuracy: 0.8724\n",
            "Epoch 10/10\n",
            "293/293 [==============================] - 1s 3ms/step - loss: 0.2844 - binary_accuracy: 0.8773\n",
            "1563/1563 [==============================] - 3s 2ms/step - loss: 0.3989 - binary_accuracy: 0.8276\n"
          ]
        }
      ]
    },
    {
      "cell_type": "markdown",
      "source": [
        "테스트 데이터로 확인해본 결과를 출력해보면 85%의 성능을 보여주는 것을 알 수 있습니다.\n"
      ],
      "metadata": {
        "id": "Ydgye3SD409u"
      }
    },
    {
      "cell_type": "code",
      "source": [
        "results"
      ],
      "metadata": {
        "colab": {
          "base_uri": "https://localhost:8080/"
        },
        "id": "_ueyca0E4zGm",
        "outputId": "c45b2551-d7d9-492b-c2d8-cfb448b9a00f"
      },
      "execution_count": 23,
      "outputs": [
        {
          "output_type": "execute_result",
          "data": {
            "text/plain": [
              "[0.3988867998123169, 0.8276200294494629]"
            ]
          },
          "metadata": {},
          "execution_count": 23
        }
      ]
    },
    {
      "cell_type": "markdown",
      "source": [
        "이제 문자열 형태의 새로운 데이터를 받아와서 바로 결과를 예측하는 함수를 만들어 보겠습니다.\n",
        "데이터의 형태를 맞춰주기 위해서 달리 np.expand_dims 메서드를 이용해 array의 축을 확장시켰습니다.\n",
        "최종 확률이 0.5 보다 크면 긍정이고, 그렇지 않으면 부정이라고 예측했습니다."
      ],
      "metadata": {
        "id": "s0DnUzGD43BV"
      }
    },
    {
      "cell_type": "code",
      "source": [
        "def predict_pos_neg(review):\n",
        "    token = tokenize(review)\n",
        "    tf = term_frequency(token)\n",
        "    data = np.expand_dims(np.asarray(tf).astype('float32'), axis=0)\n",
        "    score = float(model.predict(data))\n",
        "    if(score > 0.5):\n",
        "        print(\"[{}]는 {:.2f}% 확률로 긍정 리뷰이지 않을까 추측해봅니다.^^\\n\".format(review, score * 100))\n",
        "    else:\n",
        "        print(\"[{}]는 {:.2f}% 확률로 부정 리뷰이지 않을까 추측해봅니다.^^;\\n\".format(review, (1 - score) * 100))"
      ],
      "metadata": {
        "id": "QQDwLpOk4zJV"
      },
      "execution_count": 24,
      "outputs": []
    },
    {
      "cell_type": "markdown",
      "source": [
        "이렇게 여러 가지 한글 리뷰를 넣어서 예측하게 됩니다."
      ],
      "metadata": {
        "id": "x9k7c5lf48pY"
      }
    },
    {
      "cell_type": "code",
      "source": [
        "predict_pos_neg(\"올해 최고의 영화! 세 번 넘게 봐도 질리지가 않네요.\")\n",
        "predict_pos_neg(\"배경 음악이 영화의 분위기랑 너무 안 맞았습니다. 몰입에 방해가 됩니다.\")\n",
        "predict_pos_neg(\"주연 배우가 신인인데 연기를 진짜 잘 하네요. 몰입감 ㅎㄷㄷ\")\n",
        "predict_pos_neg(\"믿고 보는 감독이지만 이번에는 아니네요\")\n",
        "predict_pos_neg(\"주연배우 때문에 봤어요\")"
      ],
      "metadata": {
        "colab": {
          "base_uri": "https://localhost:8080/"
        },
        "id": "ecMnMyjq4zMB",
        "outputId": "a478ffae-c31d-40e7-d3b4-8fed5c08cc26"
      },
      "execution_count": 25,
      "outputs": [
        {
          "output_type": "stream",
          "name": "stdout",
          "text": [
            "[올해 최고의 영화! 세 번 넘게 봐도 질리지가 않네요.]는 98.08% 확률로 긍정 리뷰이지 않을까 추측해봅니다.^^\n",
            "\n",
            "[배경 음악이 영화의 분위기랑 너무 안 맞았습니다. 몰입에 방해가 됩니다.]는 86.28% 확률로 부정 리뷰이지 않을까 추측해봅니다.^^;\n",
            "\n",
            "[주연 배우가 신인인데 연기를 진짜 잘 하네요. 몰입감 ㅎㄷㄷ]는 84.32% 확률로 긍정 리뷰이지 않을까 추측해봅니다.^^\n",
            "\n",
            "[믿고 보는 감독이지만 이번에는 아니네요]는 59.23% 확률로 부정 리뷰이지 않을까 추측해봅니다.^^;\n",
            "\n",
            "[주연배우 때문에 봤어요]는 89.67% 확률로 부정 리뷰이지 않을까 추측해봅니다.^^;\n",
            "\n"
          ]
        }
      ]
    },
    {
      "cell_type": "code",
      "source": [
        ""
      ],
      "metadata": {
        "id": "6_wpJzKQ4zP2"
      },
      "execution_count": 44,
      "outputs": []
    },
    {
      "cell_type": "markdown",
      "source": [
        "### LSTM 훈련"
      ],
      "metadata": {
        "id": "es4MrbVEeyh-"
      }
    },
    {
      "cell_type": "code",
      "source": [
        "import numpy as np\n",
        "import keras\n",
        "\n",
        "from keras.preprocessing.text import Tokenizer\n",
        "from keras.preprocessing.sequence import pad_sequences\n",
        "from keras.preprocessing import sequence\n",
        "from keras.models import Sequential\n",
        "from keras.layers import Dense, Dropout, Embedding, LSTM, Bidirectional\n",
        "from keras.models import Model, load_model\n",
        "\n",
        "import matplotlib.pyplot as plt\n",
        "from IPython.display import display, HTML\n",
        "\n",
        "from numpy import newaxis as na"
      ],
      "metadata": {
        "id": "29H0-dSm1SNL"
      },
      "execution_count": 27,
      "outputs": []
    },
    {
      "cell_type": "markdown",
      "source": [
        "max_features = 10000\n",
        "\n",
        "maxlen = 100\n",
        "\n",
        "batch_size = 1024"
      ],
      "metadata": {
        "id": "PS0IQQ19ctTU"
      }
    },
    {
      "cell_type": "code",
      "source": [
        "max_features = 10000\n",
        "\n",
        "maxlen = 100\n",
        "\n",
        "batch_size = 1024"
      ],
      "metadata": {
        "id": "J2M0fTb_m0dh"
      },
      "execution_count": 28,
      "outputs": []
    },
    {
      "cell_type": "markdown",
      "source": [
        "# One-hot encoding the output >> \n",
        "num_classes = 2\n",
        "\n",
        "from tensorflow.keras.utils import to_categorical\n",
        "\n",
        "from tensorflow.keras.models import Sequential\n",
        "\n",
        "from tensorflow.keras.layers import Dense\n",
        "\n",
        "y_train = keras.utils.to_categorical(train_y, num_classes)\n",
        "\n",
        "y_test = keras.utils.to_categorical(test_y, num_classes)"
      ],
      "metadata": {
        "id": "WyZTUp5FcwR6"
      }
    },
    {
      "cell_type": "code",
      "source": [
        "#! pip install tensorflow==2.3.0"
      ],
      "metadata": {
        "colab": {
          "base_uri": "https://localhost:8080/",
          "height": 1000
        },
        "id": "OIAKmgOFnXZN",
        "outputId": "8690436e-c66f-4880-a0ee-d267df600507"
      },
      "execution_count": 15,
      "outputs": [
        {
          "output_type": "stream",
          "name": "stdout",
          "text": [
            "Collecting tensorflow==2.3.0\n",
            "  Downloading tensorflow-2.3.0-cp37-cp37m-manylinux2010_x86_64.whl (320.4 MB)\n",
            "\u001b[K     |████████████████████████████████| 320.4 MB 46 kB/s \n",
            "\u001b[?25hCollecting gast==0.3.3\n",
            "  Downloading gast-0.3.3-py2.py3-none-any.whl (9.7 kB)\n",
            "Requirement already satisfied: tensorboard<3,>=2.3.0 in /usr/local/lib/python3.7/dist-packages (from tensorflow==2.3.0) (2.7.0)\n",
            "Requirement already satisfied: wrapt>=1.11.1 in /usr/local/lib/python3.7/dist-packages (from tensorflow==2.3.0) (1.13.3)\n",
            "Requirement already satisfied: grpcio>=1.8.6 in /usr/local/lib/python3.7/dist-packages (from tensorflow==2.3.0) (1.43.0)\n",
            "Requirement already satisfied: keras-preprocessing<1.2,>=1.1.1 in /usr/local/lib/python3.7/dist-packages (from tensorflow==2.3.0) (1.1.2)\n",
            "Requirement already satisfied: astunparse==1.6.3 in /usr/local/lib/python3.7/dist-packages (from tensorflow==2.3.0) (1.6.3)\n",
            "Requirement already satisfied: wheel>=0.26 in /usr/local/lib/python3.7/dist-packages (from tensorflow==2.3.0) (0.37.1)\n",
            "Collecting h5py<2.11.0,>=2.10.0\n",
            "  Downloading h5py-2.10.0-cp37-cp37m-manylinux1_x86_64.whl (2.9 MB)\n",
            "\u001b[K     |████████████████████████████████| 2.9 MB 35.5 MB/s \n",
            "\u001b[?25hRequirement already satisfied: protobuf>=3.9.2 in /usr/local/lib/python3.7/dist-packages (from tensorflow==2.3.0) (3.17.3)\n",
            "Requirement already satisfied: six>=1.12.0 in /usr/local/lib/python3.7/dist-packages (from tensorflow==2.3.0) (1.15.0)\n",
            "Requirement already satisfied: scipy==1.4.1 in /usr/local/lib/python3.7/dist-packages (from tensorflow==2.3.0) (1.4.1)\n",
            "Requirement already satisfied: google-pasta>=0.1.8 in /usr/local/lib/python3.7/dist-packages (from tensorflow==2.3.0) (0.2.0)\n",
            "Requirement already satisfied: opt-einsum>=2.3.2 in /usr/local/lib/python3.7/dist-packages (from tensorflow==2.3.0) (3.3.0)\n",
            "Requirement already satisfied: absl-py>=0.7.0 in /usr/local/lib/python3.7/dist-packages (from tensorflow==2.3.0) (1.0.0)\n",
            "Collecting numpy<1.19.0,>=1.16.0\n",
            "  Downloading numpy-1.18.5-cp37-cp37m-manylinux1_x86_64.whl (20.1 MB)\n",
            "\u001b[K     |████████████████████████████████| 20.1 MB 30.6 MB/s \n",
            "\u001b[?25hRequirement already satisfied: termcolor>=1.1.0 in /usr/local/lib/python3.7/dist-packages (from tensorflow==2.3.0) (1.1.0)\n",
            "Collecting tensorflow-estimator<2.4.0,>=2.3.0\n",
            "  Downloading tensorflow_estimator-2.3.0-py2.py3-none-any.whl (459 kB)\n",
            "\u001b[K     |████████████████████████████████| 459 kB 40.1 MB/s \n",
            "\u001b[?25hRequirement already satisfied: werkzeug>=0.11.15 in /usr/local/lib/python3.7/dist-packages (from tensorboard<3,>=2.3.0->tensorflow==2.3.0) (1.0.1)\n",
            "Requirement already satisfied: requests<3,>=2.21.0 in /usr/local/lib/python3.7/dist-packages (from tensorboard<3,>=2.3.0->tensorflow==2.3.0) (2.23.0)\n",
            "Requirement already satisfied: google-auth-oauthlib<0.5,>=0.4.1 in /usr/local/lib/python3.7/dist-packages (from tensorboard<3,>=2.3.0->tensorflow==2.3.0) (0.4.6)\n",
            "Requirement already satisfied: markdown>=2.6.8 in /usr/local/lib/python3.7/dist-packages (from tensorboard<3,>=2.3.0->tensorflow==2.3.0) (3.3.6)\n",
            "Requirement already satisfied: tensorboard-data-server<0.7.0,>=0.6.0 in /usr/local/lib/python3.7/dist-packages (from tensorboard<3,>=2.3.0->tensorflow==2.3.0) (0.6.1)\n",
            "Requirement already satisfied: setuptools>=41.0.0 in /usr/local/lib/python3.7/dist-packages (from tensorboard<3,>=2.3.0->tensorflow==2.3.0) (57.4.0)\n",
            "Requirement already satisfied: google-auth<3,>=1.6.3 in /usr/local/lib/python3.7/dist-packages (from tensorboard<3,>=2.3.0->tensorflow==2.3.0) (1.35.0)\n",
            "Requirement already satisfied: tensorboard-plugin-wit>=1.6.0 in /usr/local/lib/python3.7/dist-packages (from tensorboard<3,>=2.3.0->tensorflow==2.3.0) (1.8.1)\n",
            "Requirement already satisfied: pyasn1-modules>=0.2.1 in /usr/local/lib/python3.7/dist-packages (from google-auth<3,>=1.6.3->tensorboard<3,>=2.3.0->tensorflow==2.3.0) (0.2.8)\n",
            "Requirement already satisfied: cachetools<5.0,>=2.0.0 in /usr/local/lib/python3.7/dist-packages (from google-auth<3,>=1.6.3->tensorboard<3,>=2.3.0->tensorflow==2.3.0) (4.2.4)\n",
            "Requirement already satisfied: rsa<5,>=3.1.4 in /usr/local/lib/python3.7/dist-packages (from google-auth<3,>=1.6.3->tensorboard<3,>=2.3.0->tensorflow==2.3.0) (4.8)\n",
            "Requirement already satisfied: requests-oauthlib>=0.7.0 in /usr/local/lib/python3.7/dist-packages (from google-auth-oauthlib<0.5,>=0.4.1->tensorboard<3,>=2.3.0->tensorflow==2.3.0) (1.3.1)\n",
            "Requirement already satisfied: importlib-metadata>=4.4 in /usr/local/lib/python3.7/dist-packages (from markdown>=2.6.8->tensorboard<3,>=2.3.0->tensorflow==2.3.0) (4.10.1)\n",
            "Requirement already satisfied: zipp>=0.5 in /usr/local/lib/python3.7/dist-packages (from importlib-metadata>=4.4->markdown>=2.6.8->tensorboard<3,>=2.3.0->tensorflow==2.3.0) (3.7.0)\n",
            "Requirement already satisfied: typing-extensions>=3.6.4 in /usr/local/lib/python3.7/dist-packages (from importlib-metadata>=4.4->markdown>=2.6.8->tensorboard<3,>=2.3.0->tensorflow==2.3.0) (3.10.0.2)\n",
            "Requirement already satisfied: pyasn1<0.5.0,>=0.4.6 in /usr/local/lib/python3.7/dist-packages (from pyasn1-modules>=0.2.1->google-auth<3,>=1.6.3->tensorboard<3,>=2.3.0->tensorflow==2.3.0) (0.4.8)\n",
            "Requirement already satisfied: chardet<4,>=3.0.2 in /usr/local/lib/python3.7/dist-packages (from requests<3,>=2.21.0->tensorboard<3,>=2.3.0->tensorflow==2.3.0) (3.0.4)\n",
            "Requirement already satisfied: urllib3!=1.25.0,!=1.25.1,<1.26,>=1.21.1 in /usr/local/lib/python3.7/dist-packages (from requests<3,>=2.21.0->tensorboard<3,>=2.3.0->tensorflow==2.3.0) (1.24.3)\n",
            "Requirement already satisfied: certifi>=2017.4.17 in /usr/local/lib/python3.7/dist-packages (from requests<3,>=2.21.0->tensorboard<3,>=2.3.0->tensorflow==2.3.0) (2021.10.8)\n",
            "Requirement already satisfied: idna<3,>=2.5 in /usr/local/lib/python3.7/dist-packages (from requests<3,>=2.21.0->tensorboard<3,>=2.3.0->tensorflow==2.3.0) (2.10)\n",
            "Requirement already satisfied: oauthlib>=3.0.0 in /usr/local/lib/python3.7/dist-packages (from requests-oauthlib>=0.7.0->google-auth-oauthlib<0.5,>=0.4.1->tensorboard<3,>=2.3.0->tensorflow==2.3.0) (3.2.0)\n",
            "Installing collected packages: numpy, tensorflow-estimator, h5py, gast, tensorflow\n",
            "  Attempting uninstall: numpy\n",
            "    Found existing installation: numpy 1.19.5\n",
            "    Uninstalling numpy-1.19.5:\n",
            "      Successfully uninstalled numpy-1.19.5\n",
            "  Attempting uninstall: tensorflow-estimator\n",
            "    Found existing installation: tensorflow-estimator 2.7.0\n",
            "    Uninstalling tensorflow-estimator-2.7.0:\n",
            "      Successfully uninstalled tensorflow-estimator-2.7.0\n",
            "  Attempting uninstall: h5py\n",
            "    Found existing installation: h5py 3.1.0\n",
            "    Uninstalling h5py-3.1.0:\n",
            "      Successfully uninstalled h5py-3.1.0\n",
            "  Attempting uninstall: gast\n",
            "    Found existing installation: gast 0.4.0\n",
            "    Uninstalling gast-0.4.0:\n",
            "      Successfully uninstalled gast-0.4.0\n",
            "  Attempting uninstall: tensorflow\n",
            "    Found existing installation: tensorflow 2.7.0\n",
            "    Uninstalling tensorflow-2.7.0:\n",
            "      Successfully uninstalled tensorflow-2.7.0\n",
            "\u001b[31mERROR: pip's dependency resolver does not currently take into account all the packages that are installed. This behaviour is the source of the following dependency conflicts.\n",
            "datascience 0.10.6 requires folium==0.2.1, but you have folium 0.8.3 which is incompatible.\n",
            "albumentations 0.1.12 requires imgaug<0.2.7,>=0.2.5, but you have imgaug 0.2.9 which is incompatible.\u001b[0m\n",
            "Successfully installed gast-0.3.3 h5py-2.10.0 numpy-1.18.5 tensorflow-2.3.0 tensorflow-estimator-2.3.0\n"
          ]
        },
        {
          "output_type": "display_data",
          "data": {
            "application/vnd.colab-display-data+json": {
              "pip_warning": {
                "packages": [
                  "gast",
                  "h5py",
                  "numpy",
                  "tensorflow"
                ]
              }
            }
          },
          "metadata": {}
        }
      ]
    },
    {
      "cell_type": "code",
      "source": [
        "#! pip install keras==2.4.0"
      ],
      "metadata": {
        "colab": {
          "base_uri": "https://localhost:8080/",
          "height": 1000
        },
        "id": "ruBMi3oonXdk",
        "outputId": "a868130d-c1cc-4b7f-bdf3-94e09113a937"
      },
      "execution_count": 16,
      "outputs": [
        {
          "output_type": "stream",
          "name": "stdout",
          "text": [
            "Collecting keras==2.4.0\n",
            "  Downloading Keras-2.4.0-py2.py3-none-any.whl (170 kB)\n",
            "\u001b[?25l\r\u001b[K     |██                              | 10 kB 22.9 MB/s eta 0:00:01\r\u001b[K     |███▉                            | 20 kB 25.7 MB/s eta 0:00:01\r\u001b[K     |█████▊                          | 30 kB 16.6 MB/s eta 0:00:01\r\u001b[K     |███████▊                        | 40 kB 11.4 MB/s eta 0:00:01\r\u001b[K     |█████████▋                      | 51 kB 8.8 MB/s eta 0:00:01\r\u001b[K     |███████████▌                    | 61 kB 9.2 MB/s eta 0:00:01\r\u001b[K     |█████████████▌                  | 71 kB 6.0 MB/s eta 0:00:01\r\u001b[K     |███████████████▍                | 81 kB 6.5 MB/s eta 0:00:01\r\u001b[K     |█████████████████▎              | 92 kB 7.2 MB/s eta 0:00:01\r\u001b[K     |███████████████████▎            | 102 kB 7.9 MB/s eta 0:00:01\r\u001b[K     |█████████████████████▏          | 112 kB 7.9 MB/s eta 0:00:01\r\u001b[K     |███████████████████████         | 122 kB 7.9 MB/s eta 0:00:01\r\u001b[K     |█████████████████████████       | 133 kB 7.9 MB/s eta 0:00:01\r\u001b[K     |███████████████████████████     | 143 kB 7.9 MB/s eta 0:00:01\r\u001b[K     |████████████████████████████▉   | 153 kB 7.9 MB/s eta 0:00:01\r\u001b[K     |██████████████████████████████▉ | 163 kB 7.9 MB/s eta 0:00:01\r\u001b[K     |████████████████████████████████| 170 kB 7.9 MB/s \n",
            "\u001b[?25hRequirement already satisfied: h5py in /usr/local/lib/python3.7/dist-packages (from keras==2.4.0) (2.10.0)\n",
            "Requirement already satisfied: scipy>=0.14 in /usr/local/lib/python3.7/dist-packages (from keras==2.4.0) (1.4.1)\n",
            "Requirement already satisfied: pyyaml in /usr/local/lib/python3.7/dist-packages (from keras==2.4.0) (3.13)\n",
            "Requirement already satisfied: numpy>=1.9.1 in /usr/local/lib/python3.7/dist-packages (from keras==2.4.0) (1.18.5)\n",
            "Requirement already satisfied: tensorflow>=2.2.0 in /usr/local/lib/python3.7/dist-packages (from keras==2.4.0) (2.3.0)\n",
            "Requirement already satisfied: termcolor>=1.1.0 in /usr/local/lib/python3.7/dist-packages (from tensorflow>=2.2.0->keras==2.4.0) (1.1.0)\n",
            "Requirement already satisfied: astunparse==1.6.3 in /usr/local/lib/python3.7/dist-packages (from tensorflow>=2.2.0->keras==2.4.0) (1.6.3)\n",
            "Requirement already satisfied: absl-py>=0.7.0 in /usr/local/lib/python3.7/dist-packages (from tensorflow>=2.2.0->keras==2.4.0) (1.0.0)\n",
            "Requirement already satisfied: opt-einsum>=2.3.2 in /usr/local/lib/python3.7/dist-packages (from tensorflow>=2.2.0->keras==2.4.0) (3.3.0)\n",
            "Requirement already satisfied: wheel>=0.26 in /usr/local/lib/python3.7/dist-packages (from tensorflow>=2.2.0->keras==2.4.0) (0.37.1)\n",
            "Requirement already satisfied: tensorboard<3,>=2.3.0 in /usr/local/lib/python3.7/dist-packages (from tensorflow>=2.2.0->keras==2.4.0) (2.7.0)\n",
            "Requirement already satisfied: keras-preprocessing<1.2,>=1.1.1 in /usr/local/lib/python3.7/dist-packages (from tensorflow>=2.2.0->keras==2.4.0) (1.1.2)\n",
            "Requirement already satisfied: grpcio>=1.8.6 in /usr/local/lib/python3.7/dist-packages (from tensorflow>=2.2.0->keras==2.4.0) (1.43.0)\n",
            "Requirement already satisfied: gast==0.3.3 in /usr/local/lib/python3.7/dist-packages (from tensorflow>=2.2.0->keras==2.4.0) (0.3.3)\n",
            "Requirement already satisfied: tensorflow-estimator<2.4.0,>=2.3.0 in /usr/local/lib/python3.7/dist-packages (from tensorflow>=2.2.0->keras==2.4.0) (2.3.0)\n",
            "Requirement already satisfied: six>=1.12.0 in /usr/local/lib/python3.7/dist-packages (from tensorflow>=2.2.0->keras==2.4.0) (1.15.0)\n",
            "Requirement already satisfied: google-pasta>=0.1.8 in /usr/local/lib/python3.7/dist-packages (from tensorflow>=2.2.0->keras==2.4.0) (0.2.0)\n",
            "Requirement already satisfied: wrapt>=1.11.1 in /usr/local/lib/python3.7/dist-packages (from tensorflow>=2.2.0->keras==2.4.0) (1.13.3)\n",
            "Requirement already satisfied: protobuf>=3.9.2 in /usr/local/lib/python3.7/dist-packages (from tensorflow>=2.2.0->keras==2.4.0) (3.17.3)\n",
            "Requirement already satisfied: tensorboard-plugin-wit>=1.6.0 in /usr/local/lib/python3.7/dist-packages (from tensorboard<3,>=2.3.0->tensorflow>=2.2.0->keras==2.4.0) (1.8.1)\n",
            "Requirement already satisfied: requests<3,>=2.21.0 in /usr/local/lib/python3.7/dist-packages (from tensorboard<3,>=2.3.0->tensorflow>=2.2.0->keras==2.4.0) (2.23.0)\n",
            "Requirement already satisfied: werkzeug>=0.11.15 in /usr/local/lib/python3.7/dist-packages (from tensorboard<3,>=2.3.0->tensorflow>=2.2.0->keras==2.4.0) (1.0.1)\n",
            "Requirement already satisfied: tensorboard-data-server<0.7.0,>=0.6.0 in /usr/local/lib/python3.7/dist-packages (from tensorboard<3,>=2.3.0->tensorflow>=2.2.0->keras==2.4.0) (0.6.1)\n",
            "Requirement already satisfied: google-auth<3,>=1.6.3 in /usr/local/lib/python3.7/dist-packages (from tensorboard<3,>=2.3.0->tensorflow>=2.2.0->keras==2.4.0) (1.35.0)\n",
            "Requirement already satisfied: markdown>=2.6.8 in /usr/local/lib/python3.7/dist-packages (from tensorboard<3,>=2.3.0->tensorflow>=2.2.0->keras==2.4.0) (3.3.6)\n",
            "Requirement already satisfied: setuptools>=41.0.0 in /usr/local/lib/python3.7/dist-packages (from tensorboard<3,>=2.3.0->tensorflow>=2.2.0->keras==2.4.0) (57.4.0)\n",
            "Requirement already satisfied: google-auth-oauthlib<0.5,>=0.4.1 in /usr/local/lib/python3.7/dist-packages (from tensorboard<3,>=2.3.0->tensorflow>=2.2.0->keras==2.4.0) (0.4.6)\n",
            "Requirement already satisfied: rsa<5,>=3.1.4 in /usr/local/lib/python3.7/dist-packages (from google-auth<3,>=1.6.3->tensorboard<3,>=2.3.0->tensorflow>=2.2.0->keras==2.4.0) (4.8)\n",
            "Requirement already satisfied: pyasn1-modules>=0.2.1 in /usr/local/lib/python3.7/dist-packages (from google-auth<3,>=1.6.3->tensorboard<3,>=2.3.0->tensorflow>=2.2.0->keras==2.4.0) (0.2.8)\n",
            "Requirement already satisfied: cachetools<5.0,>=2.0.0 in /usr/local/lib/python3.7/dist-packages (from google-auth<3,>=1.6.3->tensorboard<3,>=2.3.0->tensorflow>=2.2.0->keras==2.4.0) (4.2.4)\n",
            "Requirement already satisfied: requests-oauthlib>=0.7.0 in /usr/local/lib/python3.7/dist-packages (from google-auth-oauthlib<0.5,>=0.4.1->tensorboard<3,>=2.3.0->tensorflow>=2.2.0->keras==2.4.0) (1.3.1)\n",
            "Requirement already satisfied: importlib-metadata>=4.4 in /usr/local/lib/python3.7/dist-packages (from markdown>=2.6.8->tensorboard<3,>=2.3.0->tensorflow>=2.2.0->keras==2.4.0) (4.10.1)\n",
            "Requirement already satisfied: zipp>=0.5 in /usr/local/lib/python3.7/dist-packages (from importlib-metadata>=4.4->markdown>=2.6.8->tensorboard<3,>=2.3.0->tensorflow>=2.2.0->keras==2.4.0) (3.7.0)\n",
            "Requirement already satisfied: typing-extensions>=3.6.4 in /usr/local/lib/python3.7/dist-packages (from importlib-metadata>=4.4->markdown>=2.6.8->tensorboard<3,>=2.3.0->tensorflow>=2.2.0->keras==2.4.0) (3.10.0.2)\n",
            "Requirement already satisfied: pyasn1<0.5.0,>=0.4.6 in /usr/local/lib/python3.7/dist-packages (from pyasn1-modules>=0.2.1->google-auth<3,>=1.6.3->tensorboard<3,>=2.3.0->tensorflow>=2.2.0->keras==2.4.0) (0.4.8)\n",
            "Requirement already satisfied: urllib3!=1.25.0,!=1.25.1,<1.26,>=1.21.1 in /usr/local/lib/python3.7/dist-packages (from requests<3,>=2.21.0->tensorboard<3,>=2.3.0->tensorflow>=2.2.0->keras==2.4.0) (1.24.3)\n",
            "Requirement already satisfied: certifi>=2017.4.17 in /usr/local/lib/python3.7/dist-packages (from requests<3,>=2.21.0->tensorboard<3,>=2.3.0->tensorflow>=2.2.0->keras==2.4.0) (2021.10.8)\n",
            "Requirement already satisfied: idna<3,>=2.5 in /usr/local/lib/python3.7/dist-packages (from requests<3,>=2.21.0->tensorboard<3,>=2.3.0->tensorflow>=2.2.0->keras==2.4.0) (2.10)\n",
            "Requirement already satisfied: chardet<4,>=3.0.2 in /usr/local/lib/python3.7/dist-packages (from requests<3,>=2.21.0->tensorboard<3,>=2.3.0->tensorflow>=2.2.0->keras==2.4.0) (3.0.4)\n",
            "Requirement already satisfied: oauthlib>=3.0.0 in /usr/local/lib/python3.7/dist-packages (from requests-oauthlib>=0.7.0->google-auth-oauthlib<0.5,>=0.4.1->tensorboard<3,>=2.3.0->tensorflow>=2.2.0->keras==2.4.0) (3.2.0)\n",
            "Installing collected packages: keras\n",
            "  Attempting uninstall: keras\n",
            "    Found existing installation: keras 2.7.0\n",
            "    Uninstalling keras-2.7.0:\n",
            "      Successfully uninstalled keras-2.7.0\n",
            "Successfully installed keras-2.4.0\n"
          ]
        },
        {
          "output_type": "display_data",
          "data": {
            "application/vnd.colab-display-data+json": {
              "pip_warning": {
                "packages": [
                  "keras"
                ]
              }
            }
          },
          "metadata": {}
        }
      ]
    },
    {
      "cell_type": "code",
      "source": [
        "# One-hot encoding the output >> \n",
        "num_classes = 2\n",
        "\n",
        "from tensorflow.keras.utils import to_categorical\n",
        "\n",
        "from tensorflow.keras.models import Sequential\n",
        "\n",
        "from tensorflow.keras.layers import Dense\n",
        "\n",
        "\n",
        "\n",
        "\n",
        "\n",
        "y_train = keras.utils.to_categorical(train_y, num_classes)\n",
        "\n",
        "y_test = keras.utils.to_categorical(test_y, num_classes)"
      ],
      "metadata": {
        "id": "lT9UgOVwm1_4"
      },
      "execution_count": 29,
      "outputs": []
    },
    {
      "cell_type": "code",
      "source": [
        "print('훈련 데이터: {}'.format(len(X_train)))\n",
        "print('테스트 데이터: {}'.format(len(X_test)))\n",
        "print('카테고리: {}'.format(num_classes))"
      ],
      "metadata": {
        "colab": {
          "base_uri": "https://localhost:8080/"
        },
        "id": "oqoQDdcVbzug",
        "outputId": "e1ba9fcb-e047-4c45-95ae-6adad1e344e7"
      },
      "execution_count": 30,
      "outputs": [
        {
          "output_type": "stream",
          "name": "stdout",
          "text": [
            "훈련 데이터: 150000\n",
            "테스트 데이터: 50000\n",
            "카테고리: 2\n"
          ]
        }
      ]
    },
    {
      "cell_type": "code",
      "source": [
        "plt.hist([len(s) for s in X_train], bins=50) #50개로 쪼개기\n",
        "plt.xlabel('length of Data')\n",
        "plt.ylabel('number of Data')\n",
        "plt.show()"
      ],
      "metadata": {
        "colab": {
          "base_uri": "https://localhost:8080/",
          "height": 280
        },
        "id": "COWAssB2b1-5",
        "outputId": "663813bb-4272-46a8-e642-29aace139fac"
      },
      "execution_count": 31,
      "outputs": [
        {
          "output_type": "display_data",
          "data": {
            "image/png": "[encoded data removed]",
            "text/plain": [
              "<Figure size 432x288 with 1 Axes>"
            ]
          },
          "metadata": {
            "needs_background": "light"
          }
        }
      ]
    },
    {
      "cell_type": "markdown",
      "source": [
        "maxlen = 30\n",
        "\n",
        "x_train = sequence.pad_sequences(X_train, maxlen)\n",
        "\n",
        "x_test = sequence.pad_sequences(X_test, maxlen)"
      ],
      "metadata": {
        "id": "0M_wCHw8ch7z"
      }
    },
    {
      "cell_type": "code",
      "source": [
        "maxlen = 30\n",
        "x_train = sequence.pad_sequences(X_train, maxlen)\n",
        "x_test = sequence.pad_sequences(X_test, maxlen)"
      ],
      "metadata": {
        "id": "N3R6RSCEpcOZ"
      },
      "execution_count": 32,
      "outputs": []
    },
    {
      "cell_type": "code",
      "source": [
        "model = Sequential()\n",
        "model.add(Embedding(max_features, 128))\n",
        "model.add(LSTM(128, dropout=0.2, recurrent_dropout=0.2))\n",
        "model.add(Dense(num_classes, activation='sigmoid'))\n",
        "\n",
        "# try using different optimizers and different optimizer configs\n",
        "model.compile('adam', 'binary_crossentropy', metrics=['accuracy'])\n",
        "\n",
        "print('Train...')\n",
        "model.fit(x_train, y_train,\n",
        "          batch_size=batch_size,\n",
        "          epochs=3)"
      ],
      "metadata": {
        "colab": {
          "base_uri": "https://localhost:8080/"
        },
        "id": "Sv-4YF1Ub8U-",
        "outputId": "3d3fce49-81a1-440e-b924-062ae369e2b5"
      },
      "execution_count": 33,
      "outputs": [
        {
          "output_type": "stream",
          "name": "stdout",
          "text": [
            "WARNING:tensorflow:Layer lstm_1 will not use cuDNN kernel since it doesn't meet the cuDNN kernel criteria. It will use generic GPU kernel as fallback when running on GPU\n",
            "Train...\n",
            "Epoch 1/3\n",
            "147/147 [==============================] - 20s 133ms/step - loss: 0.4462 - accuracy: 0.7887\n",
            "Epoch 2/3\n",
            "147/147 [==============================] - 20s 133ms/step - loss: 0.3253 - accuracy: 0.8589\n",
            "Epoch 3/3\n",
            "147/147 [==============================] - 20s 134ms/step - loss: 0.3063 - accuracy: 0.8673\n"
          ]
        },
        {
          "output_type": "execute_result",
          "data": {
            "text/plain": [
              "<tensorflow.python.keras.callbacks.History at 0x7fa8c6f36b10>"
            ]
          },
          "metadata": {},
          "execution_count": 33
        }
      ]
    },
    {
      "cell_type": "code",
      "source": [
        "\n",
        "# from keras.models import load_model\n",
        "# model = load_model('lstm.h5')"
      ],
      "metadata": {
        "id": "ycvefcXZb2Bl"
      },
      "execution_count": null,
      "outputs": []
    },
    {
      "cell_type": "code",
      "source": [
        "model.summary()\n"
      ],
      "metadata": {
        "colab": {
          "base_uri": "https://localhost:8080/"
        },
        "id": "MDiBOzmlb2ED",
        "outputId": "b7cbbe55-5c7a-451a-af18-661e62a94b93"
      },
      "execution_count": 34,
      "outputs": [
        {
          "output_type": "stream",
          "name": "stdout",
          "text": [
            "Model: \"sequential_2\"\n",
            "_________________________________________________________________\n",
            "Layer (type)                 Output Shape              Param #   \n",
            "=================================================================\n",
            "embedding_1 (Embedding)      (None, None, 128)         1280000   \n",
            "_________________________________________________________________\n",
            "lstm_1 (LSTM)                (None, 128)               131584    \n",
            "_________________________________________________________________\n",
            "dense_4 (Dense)              (None, 2)                 258       \n",
            "=================================================================\n",
            "Total params: 1,411,842\n",
            "Trainable params: 1,411,842\n",
            "Non-trainable params: 0\n",
            "_________________________________________________________________\n"
          ]
        }
      ]
    },
    {
      "cell_type": "code",
      "source": [
        "model.evaluate(x_test, y_test)"
      ],
      "metadata": {
        "colab": {
          "base_uri": "https://localhost:8080/"
        },
        "id": "cXd0avo9b2Gf",
        "outputId": "22158915-126f-4cc3-b8ea-0487b10875cb"
      },
      "execution_count": 35,
      "outputs": [
        {
          "output_type": "stream",
          "name": "stdout",
          "text": [
            "1563/1563 [==============================] - 17s 11ms/step - loss: 0.3487 - accuracy: 0.8444\n"
          ]
        },
        {
          "output_type": "execute_result",
          "data": {
            "text/plain": [
              "[0.3486810624599457, 0.8444200158119202]"
            ]
          },
          "metadata": {},
          "execution_count": 35
        }
      ]
    },
    {
      "cell_type": "markdown",
      "source": [
        " ### LRP & Visualization"
      ],
      "metadata": {
        "id": "RRrZSJOCs-VB"
      }
    },
    {
      "cell_type": "code",
      "source": [
        "def html_heatmap (words, scores, cmap_name=\"bwr\"):\n",
        "    \"\"\"\n",
        "    Return word-level heatmap in HTML format,\n",
        "    with words being the list of words (as string),\n",
        "    scores the corresponding list of word-level relevance values,\n",
        "    and cmap_name the name of the matplotlib diverging colormap.\n",
        "    \"\"\"\n",
        "    \n",
        "    colormap  = plt.get_cmap(cmap_name)\n",
        "     \n",
        "    #assert len(words)==len(scores)\n",
        "    max_s     = max(scores)\n",
        "    min_s     = min(scores)\n",
        "    \n",
        "    output_text = \"\"\n",
        "    \n",
        "    for idx, w in enumerate(words):\n",
        "        score       = rescale_score_by_abs(scores[idx], max_s, min_s)\n",
        "        output_text = output_text + span_word(w, score, colormap) + \" \"\n",
        "    \n",
        "    return output_text + \"\\n\"\n",
        "\n",
        "def rescale_score_by_abs (score, max_score, min_score):\n",
        "    \"\"\"\n",
        "    Normalize the relevance value (=score), accordingly to the extremal relevance values (max_score and min_score), \n",
        "    for visualization with a diverging colormap.\n",
        "    i.e. rescale positive relevance to the range [0.5, 1.0], and negative relevance to the range [0.0, 0.5],\n",
        "    using the highest absolute relevance for linear interpolation.\n",
        "    \"\"\"\n",
        "    \n",
        "    # CASE 1: positive AND negative scores occur --------------------\n",
        "    if max_score>0 and min_score<0:\n",
        "    \n",
        "        if max_score >= abs(min_score):   # deepest color is positive\n",
        "            if score>=0:\n",
        "                return 0.5 + 0.5*(score/max_score)\n",
        "            else:\n",
        "                return 0.5 - 0.5*(abs(score)/max_score)\n",
        "\n",
        "        else:                             # deepest color is negative\n",
        "            if score>=0:\n",
        "                return 0.5 + 0.5*(score/abs(min_score))\n",
        "            else:\n",
        "                return 0.5 - 0.5*(score/min_score)   \n",
        "    \n",
        "    # CASE 2: ONLY positive scores occur -----------------------------       \n",
        "    elif max_score>0 and min_score>=0: \n",
        "        if max_score == min_score:\n",
        "            return 1.0\n",
        "        else:\n",
        "            return 0.5 + 0.5*(score/max_score)\n",
        "    \n",
        "    # CASE 3: ONLY negative scores occur -----------------------------\n",
        "    elif max_score<=0 and min_score<0: \n",
        "        if max_score == min_score:\n",
        "            return 0.0\n",
        "        else:\n",
        "            return 0.5 - 0.5*(score/min_score)\n",
        "          \n",
        "\n",
        "def getRGB (c_tuple):\n",
        "    return \"#%02x%02x%02x\"%(int(c_tuple[0]*255), int(c_tuple[1]*255), int(c_tuple[2]*255))\n",
        "\n",
        "     \n",
        "def span_word (word, score, colormap):\n",
        "    return \"<span style=\\\"background-color:\"+getRGB(colormap(score))+\"\\\">\"+word+\"</span>\""
      ],
      "metadata": {
        "id": "RQcyAHIDs_Lm"
      },
      "execution_count": 36,
      "outputs": []
    },
    {
      "cell_type": "code",
      "source": [
        "class LRP4LSTM(object):\n",
        "    def __init__(self, model):\n",
        "        \n",
        "        self.model = model\n",
        "        \n",
        "        names = [weight.name for layer in model.layers for weight in layer.weights]\n",
        "        weights = model.get_weights()\n",
        "\n",
        "        # suppress scientific notation\n",
        "        np.set_printoptions(suppress=True)\n",
        "        for name, weight in zip(names, weights):\n",
        "            if name == 'lstm_1/kernel:0':\n",
        "                kernel_0 = weight\n",
        "            if name == 'lstm_1/recurrent_kernel:0':\n",
        "                recurrent_kernel_0 = weight\n",
        "            if name == 'lstm_1/bias:0':\n",
        "                bias_0 = weight\n",
        "            elif name == 'dense_1/kernel:0':\n",
        "                output = weight\n",
        "\n",
        "\n",
        "\n",
        "        print(\"kernel_0\", kernel_0.shape)\n",
        "        print(\"recurrent_kernel_0\", recurrent_kernel_0.shape)\n",
        "        print(\"bias_0\", bias_0.shape)\n",
        "        print(\"output\", output.shape)\n",
        "\n",
        "        # self.Wxh_Left (240, 60)\n",
        "        # self.Whh_Left (240, 60)\n",
        "        # self.bxh_Left (240,)\n",
        "        # self.Why_Left (5, 60)\n",
        "\n",
        "        self.Wxh = kernel_0.T  # shape 4d*e\n",
        "        self.Whh = recurrent_kernel_0.T  # shape 4d\n",
        "        self.bxh = bias_0.T  # shape 4d \n",
        "        self.Why = output.T\n",
        "        \n",
        "    def lrp_linear(self, hin, w, b, hout, Rout, bias_nb_units, eps, bias_factor=1.0, debug=False):\n",
        "        \"\"\"\n",
        "        LRP for a linear layer with input dim D and output dim M.\n",
        "        Args:\n",
        "        - hin:            forward pass input, of shape (D,)\n",
        "        - w:              connection weights, of shape (D, M)\n",
        "        - b:              biases, of shape (M,)\n",
        "        - hout:           forward pass output, of shape (M,) (unequal to np.dot(w.T,hin)+b if more than one incoming layer!)\n",
        "        - Rout:           relevance at layer output, of shape (M,)\n",
        "        - bias_nb_units:  total number of connected lower-layer units (onto which the bias/stabilizer contribution is redistributed for sanity check)\n",
        "        - eps:            stabilizer (small positive number)\n",
        "        - bias_factor:    set to 1.0 to check global relevance conservation, otherwise use 0.0 to ignore bias/stabilizer redistribution (recommended)\n",
        "        Returns:\n",
        "        - Rin:            relevance at layer input, of shape (D,)\n",
        "        \"\"\"\n",
        "        sign_out = np.where(hout[na,:]>=0, 1., -1.) # shape (1, M)\n",
        "\n",
        "        numer    = (w * hin[:,na]) + ( bias_factor * (b[na,:]*1. + eps*sign_out*1.) / bias_nb_units ) # shape (D, M)\n",
        "        # Note: here we multiply the bias_factor with both the bias b and the stabilizer eps since in fact\n",
        "        # using the term (b[na,:]*1. + eps*sign_out*1.) / bias_nb_units in the numerator is only useful for sanity check\n",
        "        # (in the initial paper version we were using (bias_factor*b[na,:]*1. + eps*sign_out*1.) / bias_nb_units instead)\n",
        "\n",
        "        denom    = hout[na,:] + (eps*sign_out*1.)   # shape (1, M)\n",
        "\n",
        "        message  = (numer/denom) * Rout[na,:]       # shape (D, M)\n",
        "\n",
        "        Rin      = message.sum(axis=1)              # shape (D,)\n",
        "\n",
        "        if debug:\n",
        "            print(\"local diff: \", Rout.sum() - Rin.sum())\n",
        "        # Note: \n",
        "        # - local  layer   relevance conservation if bias_factor==1.0 and bias_nb_units==D (i.e. when only one incoming layer)\n",
        "        # - global network relevance conservation if bias_factor==1.0 and bias_nb_units set accordingly to the total number of lower-layer connections \n",
        "        # -> can be used for sanity check\n",
        "\n",
        "        return Rin\n",
        "        \n",
        "    def get_layer_output(self, layer_name, data):\n",
        "        # https://keras.io/getting-started/faq/#how-can-i-obtain-the-output-of-an-intermediate-layer\n",
        "        intermediate_layer_model = keras.Model(inputs=self.model.input,\n",
        "                                         outputs=self.model.get_layer(layer_name).output)\n",
        "        return intermediate_layer_model.predict(data)  \n",
        "    \n",
        "    def run(self, target_data, target_class):\n",
        "        def sigmoid(x):\n",
        "            return 1 / (1 + np.exp(-x))\n",
        "        \n",
        "        #원본 소스에서 E embedding은 전체에 대한 단어 사전이고, x는 embedding된 인풋이다.  \n",
        "        # w_indices [109, 11995, 25, 18263, 25, 973, 3138, 6389, 372]\n",
        "\n",
        "        x = self.get_layer_output('embedding_1', target_data).squeeze(axis=1)\n",
        "        e = x.shape[1]\n",
        "\n",
        "       ################# forword\n",
        "        T = target_data.shape[0]\n",
        "        d = int(512/4)  # hidden units\n",
        "        C = self.Why.shape[0] # number of classes\n",
        "\n",
        "        idx    = np.hstack((np.arange(0,d), np.arange(2*d,4*d))).astype(int) # indices of gates i,f,o together\n",
        "        idx_i, idx_f, idx_c, idx_o = np.arange(0,d), np.arange(d,2*d), np.arange(2*d,3*d), np.arange(3*d,4*d) # indices of gates i,g,f,o separately\n",
        "\n",
        "        # 최종적으로 구하려는 값은 c에 저장될 값과 h으로 지워질 값\n",
        "        h  = np.zeros((T,d))\n",
        "        c  = np.zeros((T,d))\n",
        "\n",
        "        gates_pre = np.zeros((T, 4*d))  # gates pre-activation\n",
        "        gates     = np.zeros((T, 4*d))  # gates activation\n",
        "\n",
        "        for t in range(T):\n",
        "\n",
        "            gates_pre[t]    = np.dot(self.Wxh, x[t]) + np.dot(self.Whh, h[t-1]) + self.bxh\n",
        "\n",
        "            gates[t,idx]    = sigmoid(gates_pre[t,idx])\n",
        "            gates[t,idx_c]  = np.tanh(gates_pre[t,idx_c]) \n",
        "\n",
        "            c[t]            = gates[t,idx_f]*c[t-1] + gates[t,idx_i]*gates[t,idx_c]\n",
        "            h[t]            = gates[t,idx_o]*np.tanh(c[t])\n",
        "\n",
        "        score = np.dot(self.Why, h[t])    \n",
        "\n",
        "        ################# backwork\n",
        "        dx     = np.zeros(x.shape)\n",
        "\n",
        "        dh          = np.zeros((T, d))\n",
        "        dc          = np.zeros((T, d))\n",
        "        dgates_pre  = np.zeros((T, 4*d))  # gates pre-activation\n",
        "        dgates      = np.zeros((T, 4*d))  # gates activation\n",
        "\n",
        "        ds               = np.zeros((C))\n",
        "        ds[target_class] = 1.0\n",
        "        dy               = ds.copy()\n",
        "\n",
        "        #맨처음을 0으로 시작하지 않게 위한조치\n",
        "        dh[T-1]     = np.dot(self.Why.T, dy)\n",
        "\n",
        "        for t in reversed(range(T)): \n",
        "            dgates[t,idx_o]    = dh[t] * np.tanh(c[t])  # do[t]\n",
        "            dc[t]             += dh[t] * gates[t,idx_o] * (1.-(np.tanh(c[t]))**2) # dc[t]\n",
        "            dgates[t,idx_f]    = dc[t] * c[t-1]         # df[t]\n",
        "            dc[t-1]            = dc[t] * gates[t,idx_f] # dc[t-1]\n",
        "            dgates[t,idx_i]    = dc[t] * gates[t,idx_c] # di[t]\n",
        "            dgates[t,idx_c]    = dc[t] * gates[t,idx_i] # dg[t]\n",
        "            dgates_pre[t,idx]  = dgates[t,idx] * gates[t,idx] * (1.0 - gates[t,idx]) # d ifo pre[t]\n",
        "            dgates_pre[t,idx_c]= dgates[t,idx_c] *  (1.-(gates[t,idx_c])**2) # d c pre[t]\n",
        "            dh[t-1]            = np.dot(self.Whh.T, dgates_pre[t])\n",
        "            dx[t]              = np.dot(self.Wxh.T, dgates_pre[t])\n",
        "\n",
        "        ################# LRP\n",
        "        eps=0.001 \n",
        "        bias_factor=1.0\n",
        "        Rx  = np.zeros(x.shape)\n",
        "        Rh  = np.zeros((T+1, d))\n",
        "        Rc  = np.zeros((T+1, d))\n",
        "        Rg  = np.zeros((T,   d)) # gate g only\n",
        "\n",
        "        Rout_mask            = np.zeros((C))\n",
        "        Rout_mask[target_class] = 1.0  \n",
        "\n",
        "        # format reminder: lrp_linear(hin, w, b, hout, Rout, bias_nb_units, eps, bias_factor)\n",
        "        Rh[T-1]  = self.lrp_linear(h[T-1], self.Why.T, np.zeros((C)), score, score*Rout_mask, d, eps, bias_factor, debug=False)  \n",
        "\n",
        "        for t in reversed(range(T)):\n",
        "            Rc[t]   += Rh[t]\n",
        "            Rc[t-1]  = self.lrp_linear(gates[t,idx_f]*c[t-1], np.identity(d), np.zeros((d)), c[t], Rc[t], d, eps, bias_factor, debug=False)\n",
        "            Rg[t]    = self.lrp_linear(gates[t,idx_i]*gates[t,idx_c], np.identity(d), np.zeros((d)), c[t], Rc[t], d, eps, bias_factor, debug=False)\n",
        "            Rx[t]    = self.lrp_linear(x[t], self.Wxh[idx_c].T, self.bxh[idx_c], gates_pre[t,idx_c], Rg[t], d+e, eps, bias_factor, debug=False)\n",
        "            Rh[t-1]  = self.lrp_linear(h[t-1], self.Whh[idx_c].T, self.bxh[idx_c], gates_pre[t,idx_c], Rg[t], d+e, eps, bias_factor, debug=False)    \n",
        "\n",
        "        return score, x, dx, Rx, Rh[-1].sum()\n",
        "print(\"얍\")"
      ],
      "metadata": {
        "colab": {
          "base_uri": "https://localhost:8080/"
        },
        "id": "qsS17rrdvTiL",
        "outputId": "84b5b73a-e3ed-49c0-f13c-6972f16f43c6"
      },
      "execution_count": 82,
      "outputs": [
        {
          "output_type": "stream",
          "name": "stdout",
          "text": [
            "얍\n"
          ]
        }
      ]
    },
    {
      "cell_type": "code",
      "source": [
        "lrp = LRP4LSTM(model)"
      ],
      "metadata": {
        "colab": {
          "base_uri": "https://localhost:8080/",
          "height": 300
        },
        "id": "sY4DExqntNZb",
        "outputId": "74cad498-cf4d-49bb-ebf0-f3cc412d9fc9"
      },
      "execution_count": 83,
      "outputs": [
        {
          "output_type": "error",
          "ename": "UnboundLocalError",
          "evalue": "ignored",
          "traceback": [
            "\u001b[0;31m---------------------------------------------------------------------------\u001b[0m",
            "\u001b[0;31mUnboundLocalError\u001b[0m                         Traceback (most recent call last)",
            "\u001b[0;32m<ipython-input-83-1bc56d2f9f84>\u001b[0m in \u001b[0;36m<module>\u001b[0;34m()\u001b[0m\n\u001b[0;32m----> 1\u001b[0;31m \u001b[0mlrp\u001b[0m \u001b[0;34m=\u001b[0m \u001b[0mLRP4LSTM\u001b[0m\u001b[0;34m(\u001b[0m\u001b[0mmodel\u001b[0m\u001b[0;34m)\u001b[0m\u001b[0;34m\u001b[0m\u001b[0;34m\u001b[0m\u001b[0m\n\u001b[0m",
            "\u001b[0;32m<ipython-input-82-4349c1167d8d>\u001b[0m in \u001b[0;36m__init__\u001b[0;34m(self, model)\u001b[0m\n\u001b[1;32m     21\u001b[0m \u001b[0;34m\u001b[0m\u001b[0m\n\u001b[1;32m     22\u001b[0m \u001b[0;34m\u001b[0m\u001b[0m\n\u001b[0;32m---> 23\u001b[0;31m         \u001b[0mprint\u001b[0m\u001b[0;34m(\u001b[0m\u001b[0;34m\"kernel_0\"\u001b[0m\u001b[0;34m,\u001b[0m \u001b[0mkernel_0\u001b[0m\u001b[0;34m.\u001b[0m\u001b[0mshape\u001b[0m\u001b[0;34m)\u001b[0m\u001b[0;34m\u001b[0m\u001b[0;34m\u001b[0m\u001b[0m\n\u001b[0m\u001b[1;32m     24\u001b[0m         \u001b[0mprint\u001b[0m\u001b[0;34m(\u001b[0m\u001b[0;34m\"recurrent_kernel_0\"\u001b[0m\u001b[0;34m,\u001b[0m \u001b[0mrecurrent_kernel_0\u001b[0m\u001b[0;34m.\u001b[0m\u001b[0mshape\u001b[0m\u001b[0;34m)\u001b[0m\u001b[0;34m\u001b[0m\u001b[0;34m\u001b[0m\u001b[0m\n\u001b[1;32m     25\u001b[0m         \u001b[0mprint\u001b[0m\u001b[0;34m(\u001b[0m\u001b[0;34m\"bias_0\"\u001b[0m\u001b[0;34m,\u001b[0m \u001b[0mbias_0\u001b[0m\u001b[0;34m.\u001b[0m\u001b[0mshape\u001b[0m\u001b[0;34m)\u001b[0m\u001b[0;34m\u001b[0m\u001b[0;34m\u001b[0m\u001b[0m\n",
            "\u001b[0;31mUnboundLocalError\u001b[0m: local variable 'kernel_0' referenced before assignment"
          ]
        }
      ]
    },
    {
      "cell_type": "code",
      "source": [
        "def index_to_word(list):\n",
        "    _ = []\n",
        "    for x in list :\n",
        "        _.append(selected_words_10000[x].split('/')[0])\n",
        "    return _\n",
        "  \n",
        "def int_to_str(target_class):\n",
        "    if target_class == 0 :\n",
        "        return \"부정\"\n",
        "    else :\n",
        "        return \"긍정\""
      ],
      "metadata": {
        "id": "IqamvgRytQrH"
      },
      "execution_count": 72,
      "outputs": []
    },
    {
      "cell_type": "code",
      "source": [
        "predictions = model.predict(x_test)\n",
        "predictions"
      ],
      "metadata": {
        "colab": {
          "base_uri": "https://localhost:8080/"
        },
        "id": "Ie96po99tNbr",
        "outputId": "902f0168-3ac7-4a77-cdfa-311230558b9d"
      },
      "execution_count": 74,
      "outputs": [
        {
          "output_type": "execute_result",
          "data": {
            "text/plain": [
              "array([[0.02797838, 0.9723093 ],\n",
              "       [0.60801953, 0.39668548],\n",
              "       [0.89232606, 0.11453594],\n",
              "       ...,\n",
              "       [0.08742093, 0.9099511 ],\n",
              "       [0.938748  , 0.06070819],\n",
              "       [0.65419984, 0.3376445 ]], dtype=float32)"
            ]
          },
          "metadata": {},
          "execution_count": 74
        }
      ]
    },
    {
      "cell_type": "code",
      "source": [
        "positive_list = []\n",
        "negative_list = []\n",
        "\n",
        "for i in range(len(y_test)):\n",
        "    if np.argmax(predictions[i]) == 1:\n",
        "        positive_list.append(i)\n",
        "    else :\n",
        "        negative_list.append(i)"
      ],
      "metadata": {
        "id": "i_i8g8oNtQhg"
      },
      "execution_count": 75,
      "outputs": []
    },
    {
      "cell_type": "code",
      "source": [
        "print(\"각 단어가 긍정이라고 예측하는데 영향을 미치는 정도\" )\n",
        "for index, i in enumerate(positive_list):\n",
        "    \n",
        "    target_full_data = x_test[i]\n",
        "    target_data = target_full_data[target_full_data != 0]\n",
        "    target_class = np.argmax(y_test[i])\n",
        "\n",
        "    score, x, Gx, Rx, R_rest = lrp.run(target_data, target_class)\n",
        "\n",
        "    R_words_SA       = (np.linalg.norm(Gx, ord=2, axis=0))**2   # compute word-level Sensitivity Analysis relevances\n",
        "    R_words          = np.sum(Rx, axis=1)                       # compute word-level LRP relevances\n",
        "    \n",
        "    words = index_to_word(target_data) \n",
        "\n",
        "    if len(words) > 0 :\n",
        "        print(\" 예측 레이블:\", int_to_str(np.argmax(predictions[i])), \"| 실제 레이블 : \", int_to_str(target_class))\n",
        "\n",
        "        print(\"        SA heatmap:\")\n",
        "        display(HTML(html_heatmap(words, R_words_SA)))\n",
        "        \n",
        "        print(\"        LRP heatmap:\")\n",
        "        display(HTML(html_heatmap(words, R_words)))\n",
        "\n",
        "        print(\"-----------------------------------------------------------\")\n",
        "\n",
        "    if index == 20: # 20roaks 출력\n",
        "      break"
      ],
      "metadata": {
        "colab": {
          "base_uri": "https://localhost:8080/",
          "height": 264
        },
        "id": "Ere4sFt5tQls",
        "outputId": "7880c825-f2cb-45f1-86b8-a24bfa7a07db"
      },
      "execution_count": 81,
      "outputs": [
        {
          "output_type": "stream",
          "name": "stdout",
          "text": [
            "각 단어가 긍정이라고 예측하는데 영향을 미치는 정도\n"
          ]
        },
        {
          "output_type": "error",
          "ename": "TypeError",
          "evalue": "ignored",
          "traceback": [
            "\u001b[0;31m---------------------------------------------------------------------------\u001b[0m",
            "\u001b[0;31mTypeError\u001b[0m                                 Traceback (most recent call last)",
            "\u001b[0;32m<ipython-input-81-7af0eecedf16>\u001b[0m in \u001b[0;36m<module>\u001b[0;34m()\u001b[0m\n\u001b[1;32m      6\u001b[0m     \u001b[0mtarget_class\u001b[0m \u001b[0;34m=\u001b[0m \u001b[0mnp\u001b[0m\u001b[0;34m.\u001b[0m\u001b[0margmax\u001b[0m\u001b[0;34m(\u001b[0m\u001b[0my_test\u001b[0m\u001b[0;34m[\u001b[0m\u001b[0mi\u001b[0m\u001b[0;34m]\u001b[0m\u001b[0;34m)\u001b[0m\u001b[0;34m\u001b[0m\u001b[0;34m\u001b[0m\u001b[0m\n\u001b[1;32m      7\u001b[0m \u001b[0;34m\u001b[0m\u001b[0m\n\u001b[0;32m----> 8\u001b[0;31m     \u001b[0mscore\u001b[0m\u001b[0;34m,\u001b[0m \u001b[0mx\u001b[0m\u001b[0;34m,\u001b[0m \u001b[0mGx\u001b[0m\u001b[0;34m,\u001b[0m \u001b[0mRx\u001b[0m\u001b[0;34m,\u001b[0m \u001b[0mR_rest\u001b[0m \u001b[0;34m=\u001b[0m \u001b[0mlrp\u001b[0m\u001b[0;34m.\u001b[0m\u001b[0mrun\u001b[0m\u001b[0;34m(\u001b[0m\u001b[0mtarget_data\u001b[0m\u001b[0;34m,\u001b[0m \u001b[0mtarget_class\u001b[0m\u001b[0;34m)\u001b[0m\u001b[0;34m\u001b[0m\u001b[0;34m\u001b[0m\u001b[0m\n\u001b[0m\u001b[1;32m      9\u001b[0m \u001b[0;34m\u001b[0m\u001b[0m\n\u001b[1;32m     10\u001b[0m     \u001b[0mR_words_SA\u001b[0m       \u001b[0;34m=\u001b[0m \u001b[0;34m(\u001b[0m\u001b[0mnp\u001b[0m\u001b[0;34m.\u001b[0m\u001b[0mlinalg\u001b[0m\u001b[0;34m.\u001b[0m\u001b[0mnorm\u001b[0m\u001b[0;34m(\u001b[0m\u001b[0mGx\u001b[0m\u001b[0;34m,\u001b[0m \u001b[0mord\u001b[0m\u001b[0;34m=\u001b[0m\u001b[0;36m2\u001b[0m\u001b[0;34m,\u001b[0m \u001b[0maxis\u001b[0m\u001b[0;34m=\u001b[0m\u001b[0;36m0\u001b[0m\u001b[0;34m)\u001b[0m\u001b[0;34m)\u001b[0m\u001b[0;34m**\u001b[0m\u001b[0;36m2\u001b[0m   \u001b[0;31m# compute word-level Sensitivity Analysis relevances\u001b[0m\u001b[0;34m\u001b[0m\u001b[0;34m\u001b[0m\u001b[0m\n",
            "\u001b[0;31mTypeError\u001b[0m: run() missing 1 required positional argument: 'target_class'"
          ]
        }
      ]
    },
    {
      "cell_type": "code",
      "source": [
        "print(\"각 단어가 부정이라고 예측하는데 영향을 미치는 정도\" )\n",
        "for index, i in enumerate(negative_list):\n",
        "    \n",
        "    target_full_data = x_test[i]\n",
        "    target_data = target_full_data[target_full_data != 0]\n",
        "    target_class = np.argmax(y_test[i])\n",
        "\n",
        "    score, x, Gx, Rx, R_rest = lrp.run(target_data, target_class)\n",
        "\n",
        "    R_words_SA       = (np.linalg.norm(Gx, ord=2, axis=0))**2   # compute word-level Sensitivity Analysis relevances\n",
        "    R_words          = np.sum(Rx, axis=1)                       # compute word-level LRP relevances\n",
        "    \n",
        "    words = index_to_word(target_data) \n",
        "\n",
        "    if len(words) > 0 :\n",
        "        print(\" 예측 레이블:\", int_to_str(np.argmax(predictions[i])), \"| 실제 레이블 : \", int_to_str(target_class))\n",
        "\n",
        "        print(\"        SA heatmap:\")\n",
        "        display(HTML(html_heatmap(words, R_words_SA)))\n",
        "        \n",
        "        print(\"        LRP heatmap:\")\n",
        "        display(HTML(html_heatmap(words, R_words)))\n",
        "\n",
        "        print(\"-----------------------------------------------------------\")\n",
        "\n",
        "    if index == 20: # 20roaks 출력\n",
        "      break"
      ],
      "metadata": {
        "id": "CGqrmQQXtl7c"
      },
      "execution_count": null,
      "outputs": []
    }
  ]
}